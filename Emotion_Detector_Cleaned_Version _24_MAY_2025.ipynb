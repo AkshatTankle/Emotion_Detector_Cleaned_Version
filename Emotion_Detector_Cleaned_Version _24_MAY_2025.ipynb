{
  "nbformat": 4,
  "nbformat_minor": 0,
  "metadata": {
    "colab": {
      "provenance": [],
      "gpuType": "T4"
    },
    "kernelspec": {
      "name": "python3",
      "display_name": "Python 3"
    },
    "language_info": {
      "name": "python"
    },
    "accelerator": "GPU",
    "widgets": {
      "application/vnd.jupyter.widget-state+json": {
        "280b913237fc409abae8f9649b5ee749": {
          "model_module": "@jupyter-widgets/controls",
          "model_name": "HBoxModel",
          "model_module_version": "1.5.0",
          "state": {
            "_dom_classes": [],
            "_model_module": "@jupyter-widgets/controls",
            "_model_module_version": "1.5.0",
            "_model_name": "HBoxModel",
            "_view_count": null,
            "_view_module": "@jupyter-widgets/controls",
            "_view_module_version": "1.5.0",
            "_view_name": "HBoxView",
            "box_style": "",
            "children": [
              "IPY_MODEL_271c61364539495f983b84b77e1965e8",
              "IPY_MODEL_d0ec37abf3c9435488d38adabf9e4fb3",
              "IPY_MODEL_fd1bf7022d974ecca7ab48382ea56c33"
            ],
            "layout": "IPY_MODEL_350b0165c6484803a13e59ad7db13dd7"
          }
        },
        "271c61364539495f983b84b77e1965e8": {
          "model_module": "@jupyter-widgets/controls",
          "model_name": "HTMLModel",
          "model_module_version": "1.5.0",
          "state": {
            "_dom_classes": [],
            "_model_module": "@jupyter-widgets/controls",
            "_model_module_version": "1.5.0",
            "_model_name": "HTMLModel",
            "_view_count": null,
            "_view_module": "@jupyter-widgets/controls",
            "_view_module_version": "1.5.0",
            "_view_name": "HTMLView",
            "description": "",
            "description_tooltip": null,
            "layout": "IPY_MODEL_f612d98231fd4e09aaa276d46d504fa2",
            "placeholder": "​",
            "style": "IPY_MODEL_1222ea345e4943d1b06586fd5ee14c04",
            "value": "tokenizer_config.json: 100%"
          }
        },
        "d0ec37abf3c9435488d38adabf9e4fb3": {
          "model_module": "@jupyter-widgets/controls",
          "model_name": "FloatProgressModel",
          "model_module_version": "1.5.0",
          "state": {
            "_dom_classes": [],
            "_model_module": "@jupyter-widgets/controls",
            "_model_module_version": "1.5.0",
            "_model_name": "FloatProgressModel",
            "_view_count": null,
            "_view_module": "@jupyter-widgets/controls",
            "_view_module_version": "1.5.0",
            "_view_name": "ProgressView",
            "bar_style": "success",
            "description": "",
            "description_tooltip": null,
            "layout": "IPY_MODEL_c093cb5d200c43b281faf2babe9abe88",
            "max": 48,
            "min": 0,
            "orientation": "horizontal",
            "style": "IPY_MODEL_489a99a7298a47448dc0d9016ec9e1dd",
            "value": 48
          }
        },
        "fd1bf7022d974ecca7ab48382ea56c33": {
          "model_module": "@jupyter-widgets/controls",
          "model_name": "HTMLModel",
          "model_module_version": "1.5.0",
          "state": {
            "_dom_classes": [],
            "_model_module": "@jupyter-widgets/controls",
            "_model_module_version": "1.5.0",
            "_model_name": "HTMLModel",
            "_view_count": null,
            "_view_module": "@jupyter-widgets/controls",
            "_view_module_version": "1.5.0",
            "_view_name": "HTMLView",
            "description": "",
            "description_tooltip": null,
            "layout": "IPY_MODEL_2c7eec3af3de4d8191577ab0a15b9351",
            "placeholder": "​",
            "style": "IPY_MODEL_90764c77987e460db58e0a660d2bdcc7",
            "value": " 48.0/48.0 [00:00&lt;00:00, 2.32kB/s]"
          }
        },
        "350b0165c6484803a13e59ad7db13dd7": {
          "model_module": "@jupyter-widgets/base",
          "model_name": "LayoutModel",
          "model_module_version": "1.2.0",
          "state": {
            "_model_module": "@jupyter-widgets/base",
            "_model_module_version": "1.2.0",
            "_model_name": "LayoutModel",
            "_view_count": null,
            "_view_module": "@jupyter-widgets/base",
            "_view_module_version": "1.2.0",
            "_view_name": "LayoutView",
            "align_content": null,
            "align_items": null,
            "align_self": null,
            "border": null,
            "bottom": null,
            "display": null,
            "flex": null,
            "flex_flow": null,
            "grid_area": null,
            "grid_auto_columns": null,
            "grid_auto_flow": null,
            "grid_auto_rows": null,
            "grid_column": null,
            "grid_gap": null,
            "grid_row": null,
            "grid_template_areas": null,
            "grid_template_columns": null,
            "grid_template_rows": null,
            "height": null,
            "justify_content": null,
            "justify_items": null,
            "left": null,
            "margin": null,
            "max_height": null,
            "max_width": null,
            "min_height": null,
            "min_width": null,
            "object_fit": null,
            "object_position": null,
            "order": null,
            "overflow": null,
            "overflow_x": null,
            "overflow_y": null,
            "padding": null,
            "right": null,
            "top": null,
            "visibility": null,
            "width": null
          }
        },
        "f612d98231fd4e09aaa276d46d504fa2": {
          "model_module": "@jupyter-widgets/base",
          "model_name": "LayoutModel",
          "model_module_version": "1.2.0",
          "state": {
            "_model_module": "@jupyter-widgets/base",
            "_model_module_version": "1.2.0",
            "_model_name": "LayoutModel",
            "_view_count": null,
            "_view_module": "@jupyter-widgets/base",
            "_view_module_version": "1.2.0",
            "_view_name": "LayoutView",
            "align_content": null,
            "align_items": null,
            "align_self": null,
            "border": null,
            "bottom": null,
            "display": null,
            "flex": null,
            "flex_flow": null,
            "grid_area": null,
            "grid_auto_columns": null,
            "grid_auto_flow": null,
            "grid_auto_rows": null,
            "grid_column": null,
            "grid_gap": null,
            "grid_row": null,
            "grid_template_areas": null,
            "grid_template_columns": null,
            "grid_template_rows": null,
            "height": null,
            "justify_content": null,
            "justify_items": null,
            "left": null,
            "margin": null,
            "max_height": null,
            "max_width": null,
            "min_height": null,
            "min_width": null,
            "object_fit": null,
            "object_position": null,
            "order": null,
            "overflow": null,
            "overflow_x": null,
            "overflow_y": null,
            "padding": null,
            "right": null,
            "top": null,
            "visibility": null,
            "width": null
          }
        },
        "1222ea345e4943d1b06586fd5ee14c04": {
          "model_module": "@jupyter-widgets/controls",
          "model_name": "DescriptionStyleModel",
          "model_module_version": "1.5.0",
          "state": {
            "_model_module": "@jupyter-widgets/controls",
            "_model_module_version": "1.5.0",
            "_model_name": "DescriptionStyleModel",
            "_view_count": null,
            "_view_module": "@jupyter-widgets/base",
            "_view_module_version": "1.2.0",
            "_view_name": "StyleView",
            "description_width": ""
          }
        },
        "c093cb5d200c43b281faf2babe9abe88": {
          "model_module": "@jupyter-widgets/base",
          "model_name": "LayoutModel",
          "model_module_version": "1.2.0",
          "state": {
            "_model_module": "@jupyter-widgets/base",
            "_model_module_version": "1.2.0",
            "_model_name": "LayoutModel",
            "_view_count": null,
            "_view_module": "@jupyter-widgets/base",
            "_view_module_version": "1.2.0",
            "_view_name": "LayoutView",
            "align_content": null,
            "align_items": null,
            "align_self": null,
            "border": null,
            "bottom": null,
            "display": null,
            "flex": null,
            "flex_flow": null,
            "grid_area": null,
            "grid_auto_columns": null,
            "grid_auto_flow": null,
            "grid_auto_rows": null,
            "grid_column": null,
            "grid_gap": null,
            "grid_row": null,
            "grid_template_areas": null,
            "grid_template_columns": null,
            "grid_template_rows": null,
            "height": null,
            "justify_content": null,
            "justify_items": null,
            "left": null,
            "margin": null,
            "max_height": null,
            "max_width": null,
            "min_height": null,
            "min_width": null,
            "object_fit": null,
            "object_position": null,
            "order": null,
            "overflow": null,
            "overflow_x": null,
            "overflow_y": null,
            "padding": null,
            "right": null,
            "top": null,
            "visibility": null,
            "width": null
          }
        },
        "489a99a7298a47448dc0d9016ec9e1dd": {
          "model_module": "@jupyter-widgets/controls",
          "model_name": "ProgressStyleModel",
          "model_module_version": "1.5.0",
          "state": {
            "_model_module": "@jupyter-widgets/controls",
            "_model_module_version": "1.5.0",
            "_model_name": "ProgressStyleModel",
            "_view_count": null,
            "_view_module": "@jupyter-widgets/base",
            "_view_module_version": "1.2.0",
            "_view_name": "StyleView",
            "bar_color": null,
            "description_width": ""
          }
        },
        "2c7eec3af3de4d8191577ab0a15b9351": {
          "model_module": "@jupyter-widgets/base",
          "model_name": "LayoutModel",
          "model_module_version": "1.2.0",
          "state": {
            "_model_module": "@jupyter-widgets/base",
            "_model_module_version": "1.2.0",
            "_model_name": "LayoutModel",
            "_view_count": null,
            "_view_module": "@jupyter-widgets/base",
            "_view_module_version": "1.2.0",
            "_view_name": "LayoutView",
            "align_content": null,
            "align_items": null,
            "align_self": null,
            "border": null,
            "bottom": null,
            "display": null,
            "flex": null,
            "flex_flow": null,
            "grid_area": null,
            "grid_auto_columns": null,
            "grid_auto_flow": null,
            "grid_auto_rows": null,
            "grid_column": null,
            "grid_gap": null,
            "grid_row": null,
            "grid_template_areas": null,
            "grid_template_columns": null,
            "grid_template_rows": null,
            "height": null,
            "justify_content": null,
            "justify_items": null,
            "left": null,
            "margin": null,
            "max_height": null,
            "max_width": null,
            "min_height": null,
            "min_width": null,
            "object_fit": null,
            "object_position": null,
            "order": null,
            "overflow": null,
            "overflow_x": null,
            "overflow_y": null,
            "padding": null,
            "right": null,
            "top": null,
            "visibility": null,
            "width": null
          }
        },
        "90764c77987e460db58e0a660d2bdcc7": {
          "model_module": "@jupyter-widgets/controls",
          "model_name": "DescriptionStyleModel",
          "model_module_version": "1.5.0",
          "state": {
            "_model_module": "@jupyter-widgets/controls",
            "_model_module_version": "1.5.0",
            "_model_name": "DescriptionStyleModel",
            "_view_count": null,
            "_view_module": "@jupyter-widgets/base",
            "_view_module_version": "1.2.0",
            "_view_name": "StyleView",
            "description_width": ""
          }
        },
        "2bdc13a54045460b9b836e5182150d27": {
          "model_module": "@jupyter-widgets/controls",
          "model_name": "HBoxModel",
          "model_module_version": "1.5.0",
          "state": {
            "_dom_classes": [],
            "_model_module": "@jupyter-widgets/controls",
            "_model_module_version": "1.5.0",
            "_model_name": "HBoxModel",
            "_view_count": null,
            "_view_module": "@jupyter-widgets/controls",
            "_view_module_version": "1.5.0",
            "_view_name": "HBoxView",
            "box_style": "",
            "children": [
              "IPY_MODEL_b42aad1786b640ff9df0a68898f3357a",
              "IPY_MODEL_6ba6459086c04335bac9eb203c872a07",
              "IPY_MODEL_2ad474e9f1cf44c8806eda05bc79dfd7"
            ],
            "layout": "IPY_MODEL_70688fda467449ff8097d2b0e5ea9fea"
          }
        },
        "b42aad1786b640ff9df0a68898f3357a": {
          "model_module": "@jupyter-widgets/controls",
          "model_name": "HTMLModel",
          "model_module_version": "1.5.0",
          "state": {
            "_dom_classes": [],
            "_model_module": "@jupyter-widgets/controls",
            "_model_module_version": "1.5.0",
            "_model_name": "HTMLModel",
            "_view_count": null,
            "_view_module": "@jupyter-widgets/controls",
            "_view_module_version": "1.5.0",
            "_view_name": "HTMLView",
            "description": "",
            "description_tooltip": null,
            "layout": "IPY_MODEL_1ac898ae0e7849528fcd305e36b20602",
            "placeholder": "​",
            "style": "IPY_MODEL_cb6daa55be714e7783e1e6e75714108c",
            "value": "vocab.txt: 100%"
          }
        },
        "6ba6459086c04335bac9eb203c872a07": {
          "model_module": "@jupyter-widgets/controls",
          "model_name": "FloatProgressModel",
          "model_module_version": "1.5.0",
          "state": {
            "_dom_classes": [],
            "_model_module": "@jupyter-widgets/controls",
            "_model_module_version": "1.5.0",
            "_model_name": "FloatProgressModel",
            "_view_count": null,
            "_view_module": "@jupyter-widgets/controls",
            "_view_module_version": "1.5.0",
            "_view_name": "ProgressView",
            "bar_style": "success",
            "description": "",
            "description_tooltip": null,
            "layout": "IPY_MODEL_e56784d962934ae991b6b19a9acd4724",
            "max": 231508,
            "min": 0,
            "orientation": "horizontal",
            "style": "IPY_MODEL_3ca552916e2b42178e0da97efa32d86b",
            "value": 231508
          }
        },
        "2ad474e9f1cf44c8806eda05bc79dfd7": {
          "model_module": "@jupyter-widgets/controls",
          "model_name": "HTMLModel",
          "model_module_version": "1.5.0",
          "state": {
            "_dom_classes": [],
            "_model_module": "@jupyter-widgets/controls",
            "_model_module_version": "1.5.0",
            "_model_name": "HTMLModel",
            "_view_count": null,
            "_view_module": "@jupyter-widgets/controls",
            "_view_module_version": "1.5.0",
            "_view_name": "HTMLView",
            "description": "",
            "description_tooltip": null,
            "layout": "IPY_MODEL_b06eebe7c31d42ae9c2ff77f6840822d",
            "placeholder": "​",
            "style": "IPY_MODEL_1a41de167ecb4b87809ef34f76a9fe72",
            "value": " 232k/232k [00:00&lt;00:00, 9.27MB/s]"
          }
        },
        "70688fda467449ff8097d2b0e5ea9fea": {
          "model_module": "@jupyter-widgets/base",
          "model_name": "LayoutModel",
          "model_module_version": "1.2.0",
          "state": {
            "_model_module": "@jupyter-widgets/base",
            "_model_module_version": "1.2.0",
            "_model_name": "LayoutModel",
            "_view_count": null,
            "_view_module": "@jupyter-widgets/base",
            "_view_module_version": "1.2.0",
            "_view_name": "LayoutView",
            "align_content": null,
            "align_items": null,
            "align_self": null,
            "border": null,
            "bottom": null,
            "display": null,
            "flex": null,
            "flex_flow": null,
            "grid_area": null,
            "grid_auto_columns": null,
            "grid_auto_flow": null,
            "grid_auto_rows": null,
            "grid_column": null,
            "grid_gap": null,
            "grid_row": null,
            "grid_template_areas": null,
            "grid_template_columns": null,
            "grid_template_rows": null,
            "height": null,
            "justify_content": null,
            "justify_items": null,
            "left": null,
            "margin": null,
            "max_height": null,
            "max_width": null,
            "min_height": null,
            "min_width": null,
            "object_fit": null,
            "object_position": null,
            "order": null,
            "overflow": null,
            "overflow_x": null,
            "overflow_y": null,
            "padding": null,
            "right": null,
            "top": null,
            "visibility": null,
            "width": null
          }
        },
        "1ac898ae0e7849528fcd305e36b20602": {
          "model_module": "@jupyter-widgets/base",
          "model_name": "LayoutModel",
          "model_module_version": "1.2.0",
          "state": {
            "_model_module": "@jupyter-widgets/base",
            "_model_module_version": "1.2.0",
            "_model_name": "LayoutModel",
            "_view_count": null,
            "_view_module": "@jupyter-widgets/base",
            "_view_module_version": "1.2.0",
            "_view_name": "LayoutView",
            "align_content": null,
            "align_items": null,
            "align_self": null,
            "border": null,
            "bottom": null,
            "display": null,
            "flex": null,
            "flex_flow": null,
            "grid_area": null,
            "grid_auto_columns": null,
            "grid_auto_flow": null,
            "grid_auto_rows": null,
            "grid_column": null,
            "grid_gap": null,
            "grid_row": null,
            "grid_template_areas": null,
            "grid_template_columns": null,
            "grid_template_rows": null,
            "height": null,
            "justify_content": null,
            "justify_items": null,
            "left": null,
            "margin": null,
            "max_height": null,
            "max_width": null,
            "min_height": null,
            "min_width": null,
            "object_fit": null,
            "object_position": null,
            "order": null,
            "overflow": null,
            "overflow_x": null,
            "overflow_y": null,
            "padding": null,
            "right": null,
            "top": null,
            "visibility": null,
            "width": null
          }
        },
        "cb6daa55be714e7783e1e6e75714108c": {
          "model_module": "@jupyter-widgets/controls",
          "model_name": "DescriptionStyleModel",
          "model_module_version": "1.5.0",
          "state": {
            "_model_module": "@jupyter-widgets/controls",
            "_model_module_version": "1.5.0",
            "_model_name": "DescriptionStyleModel",
            "_view_count": null,
            "_view_module": "@jupyter-widgets/base",
            "_view_module_version": "1.2.0",
            "_view_name": "StyleView",
            "description_width": ""
          }
        },
        "e56784d962934ae991b6b19a9acd4724": {
          "model_module": "@jupyter-widgets/base",
          "model_name": "LayoutModel",
          "model_module_version": "1.2.0",
          "state": {
            "_model_module": "@jupyter-widgets/base",
            "_model_module_version": "1.2.0",
            "_model_name": "LayoutModel",
            "_view_count": null,
            "_view_module": "@jupyter-widgets/base",
            "_view_module_version": "1.2.0",
            "_view_name": "LayoutView",
            "align_content": null,
            "align_items": null,
            "align_self": null,
            "border": null,
            "bottom": null,
            "display": null,
            "flex": null,
            "flex_flow": null,
            "grid_area": null,
            "grid_auto_columns": null,
            "grid_auto_flow": null,
            "grid_auto_rows": null,
            "grid_column": null,
            "grid_gap": null,
            "grid_row": null,
            "grid_template_areas": null,
            "grid_template_columns": null,
            "grid_template_rows": null,
            "height": null,
            "justify_content": null,
            "justify_items": null,
            "left": null,
            "margin": null,
            "max_height": null,
            "max_width": null,
            "min_height": null,
            "min_width": null,
            "object_fit": null,
            "object_position": null,
            "order": null,
            "overflow": null,
            "overflow_x": null,
            "overflow_y": null,
            "padding": null,
            "right": null,
            "top": null,
            "visibility": null,
            "width": null
          }
        },
        "3ca552916e2b42178e0da97efa32d86b": {
          "model_module": "@jupyter-widgets/controls",
          "model_name": "ProgressStyleModel",
          "model_module_version": "1.5.0",
          "state": {
            "_model_module": "@jupyter-widgets/controls",
            "_model_module_version": "1.5.0",
            "_model_name": "ProgressStyleModel",
            "_view_count": null,
            "_view_module": "@jupyter-widgets/base",
            "_view_module_version": "1.2.0",
            "_view_name": "StyleView",
            "bar_color": null,
            "description_width": ""
          }
        },
        "b06eebe7c31d42ae9c2ff77f6840822d": {
          "model_module": "@jupyter-widgets/base",
          "model_name": "LayoutModel",
          "model_module_version": "1.2.0",
          "state": {
            "_model_module": "@jupyter-widgets/base",
            "_model_module_version": "1.2.0",
            "_model_name": "LayoutModel",
            "_view_count": null,
            "_view_module": "@jupyter-widgets/base",
            "_view_module_version": "1.2.0",
            "_view_name": "LayoutView",
            "align_content": null,
            "align_items": null,
            "align_self": null,
            "border": null,
            "bottom": null,
            "display": null,
            "flex": null,
            "flex_flow": null,
            "grid_area": null,
            "grid_auto_columns": null,
            "grid_auto_flow": null,
            "grid_auto_rows": null,
            "grid_column": null,
            "grid_gap": null,
            "grid_row": null,
            "grid_template_areas": null,
            "grid_template_columns": null,
            "grid_template_rows": null,
            "height": null,
            "justify_content": null,
            "justify_items": null,
            "left": null,
            "margin": null,
            "max_height": null,
            "max_width": null,
            "min_height": null,
            "min_width": null,
            "object_fit": null,
            "object_position": null,
            "order": null,
            "overflow": null,
            "overflow_x": null,
            "overflow_y": null,
            "padding": null,
            "right": null,
            "top": null,
            "visibility": null,
            "width": null
          }
        },
        "1a41de167ecb4b87809ef34f76a9fe72": {
          "model_module": "@jupyter-widgets/controls",
          "model_name": "DescriptionStyleModel",
          "model_module_version": "1.5.0",
          "state": {
            "_model_module": "@jupyter-widgets/controls",
            "_model_module_version": "1.5.0",
            "_model_name": "DescriptionStyleModel",
            "_view_count": null,
            "_view_module": "@jupyter-widgets/base",
            "_view_module_version": "1.2.0",
            "_view_name": "StyleView",
            "description_width": ""
          }
        },
        "8950e36faa9c4c9990eef87d006303aa": {
          "model_module": "@jupyter-widgets/controls",
          "model_name": "HBoxModel",
          "model_module_version": "1.5.0",
          "state": {
            "_dom_classes": [],
            "_model_module": "@jupyter-widgets/controls",
            "_model_module_version": "1.5.0",
            "_model_name": "HBoxModel",
            "_view_count": null,
            "_view_module": "@jupyter-widgets/controls",
            "_view_module_version": "1.5.0",
            "_view_name": "HBoxView",
            "box_style": "",
            "children": [
              "IPY_MODEL_7d4f1178e76f4f48acd7fd35526af8a9",
              "IPY_MODEL_1834e03a41954350b8d1a2a6c851b60f",
              "IPY_MODEL_2661357da4ee4d85b215f069accf3672"
            ],
            "layout": "IPY_MODEL_fab6ea6df881496a804e24d2ddd6230e"
          }
        },
        "7d4f1178e76f4f48acd7fd35526af8a9": {
          "model_module": "@jupyter-widgets/controls",
          "model_name": "HTMLModel",
          "model_module_version": "1.5.0",
          "state": {
            "_dom_classes": [],
            "_model_module": "@jupyter-widgets/controls",
            "_model_module_version": "1.5.0",
            "_model_name": "HTMLModel",
            "_view_count": null,
            "_view_module": "@jupyter-widgets/controls",
            "_view_module_version": "1.5.0",
            "_view_name": "HTMLView",
            "description": "",
            "description_tooltip": null,
            "layout": "IPY_MODEL_b6793c49ffba4deeb0c0e109e23ab082",
            "placeholder": "​",
            "style": "IPY_MODEL_bde4c650524a4bb686287ee6aaafbc89",
            "value": "tokenizer.json: 100%"
          }
        },
        "1834e03a41954350b8d1a2a6c851b60f": {
          "model_module": "@jupyter-widgets/controls",
          "model_name": "FloatProgressModel",
          "model_module_version": "1.5.0",
          "state": {
            "_dom_classes": [],
            "_model_module": "@jupyter-widgets/controls",
            "_model_module_version": "1.5.0",
            "_model_name": "FloatProgressModel",
            "_view_count": null,
            "_view_module": "@jupyter-widgets/controls",
            "_view_module_version": "1.5.0",
            "_view_name": "ProgressView",
            "bar_style": "success",
            "description": "",
            "description_tooltip": null,
            "layout": "IPY_MODEL_c3ca58b855e64f7c99616315f4cb798a",
            "max": 466062,
            "min": 0,
            "orientation": "horizontal",
            "style": "IPY_MODEL_f48d405e86c64f9ab189504a33a042e1",
            "value": 466062
          }
        },
        "2661357da4ee4d85b215f069accf3672": {
          "model_module": "@jupyter-widgets/controls",
          "model_name": "HTMLModel",
          "model_module_version": "1.5.0",
          "state": {
            "_dom_classes": [],
            "_model_module": "@jupyter-widgets/controls",
            "_model_module_version": "1.5.0",
            "_model_name": "HTMLModel",
            "_view_count": null,
            "_view_module": "@jupyter-widgets/controls",
            "_view_module_version": "1.5.0",
            "_view_name": "HTMLView",
            "description": "",
            "description_tooltip": null,
            "layout": "IPY_MODEL_6b6e3098ab04413bbbeccd587db6cea4",
            "placeholder": "​",
            "style": "IPY_MODEL_af8df8cc52244043abc1ba138a7e6f8e",
            "value": " 466k/466k [00:00&lt;00:00, 2.10MB/s]"
          }
        },
        "fab6ea6df881496a804e24d2ddd6230e": {
          "model_module": "@jupyter-widgets/base",
          "model_name": "LayoutModel",
          "model_module_version": "1.2.0",
          "state": {
            "_model_module": "@jupyter-widgets/base",
            "_model_module_version": "1.2.0",
            "_model_name": "LayoutModel",
            "_view_count": null,
            "_view_module": "@jupyter-widgets/base",
            "_view_module_version": "1.2.0",
            "_view_name": "LayoutView",
            "align_content": null,
            "align_items": null,
            "align_self": null,
            "border": null,
            "bottom": null,
            "display": null,
            "flex": null,
            "flex_flow": null,
            "grid_area": null,
            "grid_auto_columns": null,
            "grid_auto_flow": null,
            "grid_auto_rows": null,
            "grid_column": null,
            "grid_gap": null,
            "grid_row": null,
            "grid_template_areas": null,
            "grid_template_columns": null,
            "grid_template_rows": null,
            "height": null,
            "justify_content": null,
            "justify_items": null,
            "left": null,
            "margin": null,
            "max_height": null,
            "max_width": null,
            "min_height": null,
            "min_width": null,
            "object_fit": null,
            "object_position": null,
            "order": null,
            "overflow": null,
            "overflow_x": null,
            "overflow_y": null,
            "padding": null,
            "right": null,
            "top": null,
            "visibility": null,
            "width": null
          }
        },
        "b6793c49ffba4deeb0c0e109e23ab082": {
          "model_module": "@jupyter-widgets/base",
          "model_name": "LayoutModel",
          "model_module_version": "1.2.0",
          "state": {
            "_model_module": "@jupyter-widgets/base",
            "_model_module_version": "1.2.0",
            "_model_name": "LayoutModel",
            "_view_count": null,
            "_view_module": "@jupyter-widgets/base",
            "_view_module_version": "1.2.0",
            "_view_name": "LayoutView",
            "align_content": null,
            "align_items": null,
            "align_self": null,
            "border": null,
            "bottom": null,
            "display": null,
            "flex": null,
            "flex_flow": null,
            "grid_area": null,
            "grid_auto_columns": null,
            "grid_auto_flow": null,
            "grid_auto_rows": null,
            "grid_column": null,
            "grid_gap": null,
            "grid_row": null,
            "grid_template_areas": null,
            "grid_template_columns": null,
            "grid_template_rows": null,
            "height": null,
            "justify_content": null,
            "justify_items": null,
            "left": null,
            "margin": null,
            "max_height": null,
            "max_width": null,
            "min_height": null,
            "min_width": null,
            "object_fit": null,
            "object_position": null,
            "order": null,
            "overflow": null,
            "overflow_x": null,
            "overflow_y": null,
            "padding": null,
            "right": null,
            "top": null,
            "visibility": null,
            "width": null
          }
        },
        "bde4c650524a4bb686287ee6aaafbc89": {
          "model_module": "@jupyter-widgets/controls",
          "model_name": "DescriptionStyleModel",
          "model_module_version": "1.5.0",
          "state": {
            "_model_module": "@jupyter-widgets/controls",
            "_model_module_version": "1.5.0",
            "_model_name": "DescriptionStyleModel",
            "_view_count": null,
            "_view_module": "@jupyter-widgets/base",
            "_view_module_version": "1.2.0",
            "_view_name": "StyleView",
            "description_width": ""
          }
        },
        "c3ca58b855e64f7c99616315f4cb798a": {
          "model_module": "@jupyter-widgets/base",
          "model_name": "LayoutModel",
          "model_module_version": "1.2.0",
          "state": {
            "_model_module": "@jupyter-widgets/base",
            "_model_module_version": "1.2.0",
            "_model_name": "LayoutModel",
            "_view_count": null,
            "_view_module": "@jupyter-widgets/base",
            "_view_module_version": "1.2.0",
            "_view_name": "LayoutView",
            "align_content": null,
            "align_items": null,
            "align_self": null,
            "border": null,
            "bottom": null,
            "display": null,
            "flex": null,
            "flex_flow": null,
            "grid_area": null,
            "grid_auto_columns": null,
            "grid_auto_flow": null,
            "grid_auto_rows": null,
            "grid_column": null,
            "grid_gap": null,
            "grid_row": null,
            "grid_template_areas": null,
            "grid_template_columns": null,
            "grid_template_rows": null,
            "height": null,
            "justify_content": null,
            "justify_items": null,
            "left": null,
            "margin": null,
            "max_height": null,
            "max_width": null,
            "min_height": null,
            "min_width": null,
            "object_fit": null,
            "object_position": null,
            "order": null,
            "overflow": null,
            "overflow_x": null,
            "overflow_y": null,
            "padding": null,
            "right": null,
            "top": null,
            "visibility": null,
            "width": null
          }
        },
        "f48d405e86c64f9ab189504a33a042e1": {
          "model_module": "@jupyter-widgets/controls",
          "model_name": "ProgressStyleModel",
          "model_module_version": "1.5.0",
          "state": {
            "_model_module": "@jupyter-widgets/controls",
            "_model_module_version": "1.5.0",
            "_model_name": "ProgressStyleModel",
            "_view_count": null,
            "_view_module": "@jupyter-widgets/base",
            "_view_module_version": "1.2.0",
            "_view_name": "StyleView",
            "bar_color": null,
            "description_width": ""
          }
        },
        "6b6e3098ab04413bbbeccd587db6cea4": {
          "model_module": "@jupyter-widgets/base",
          "model_name": "LayoutModel",
          "model_module_version": "1.2.0",
          "state": {
            "_model_module": "@jupyter-widgets/base",
            "_model_module_version": "1.2.0",
            "_model_name": "LayoutModel",
            "_view_count": null,
            "_view_module": "@jupyter-widgets/base",
            "_view_module_version": "1.2.0",
            "_view_name": "LayoutView",
            "align_content": null,
            "align_items": null,
            "align_self": null,
            "border": null,
            "bottom": null,
            "display": null,
            "flex": null,
            "flex_flow": null,
            "grid_area": null,
            "grid_auto_columns": null,
            "grid_auto_flow": null,
            "grid_auto_rows": null,
            "grid_column": null,
            "grid_gap": null,
            "grid_row": null,
            "grid_template_areas": null,
            "grid_template_columns": null,
            "grid_template_rows": null,
            "height": null,
            "justify_content": null,
            "justify_items": null,
            "left": null,
            "margin": null,
            "max_height": null,
            "max_width": null,
            "min_height": null,
            "min_width": null,
            "object_fit": null,
            "object_position": null,
            "order": null,
            "overflow": null,
            "overflow_x": null,
            "overflow_y": null,
            "padding": null,
            "right": null,
            "top": null,
            "visibility": null,
            "width": null
          }
        },
        "af8df8cc52244043abc1ba138a7e6f8e": {
          "model_module": "@jupyter-widgets/controls",
          "model_name": "DescriptionStyleModel",
          "model_module_version": "1.5.0",
          "state": {
            "_model_module": "@jupyter-widgets/controls",
            "_model_module_version": "1.5.0",
            "_model_name": "DescriptionStyleModel",
            "_view_count": null,
            "_view_module": "@jupyter-widgets/base",
            "_view_module_version": "1.2.0",
            "_view_name": "StyleView",
            "description_width": ""
          }
        },
        "e36bdce255974286b8ec90dc4f15c7ce": {
          "model_module": "@jupyter-widgets/controls",
          "model_name": "HBoxModel",
          "model_module_version": "1.5.0",
          "state": {
            "_dom_classes": [],
            "_model_module": "@jupyter-widgets/controls",
            "_model_module_version": "1.5.0",
            "_model_name": "HBoxModel",
            "_view_count": null,
            "_view_module": "@jupyter-widgets/controls",
            "_view_module_version": "1.5.0",
            "_view_name": "HBoxView",
            "box_style": "",
            "children": [
              "IPY_MODEL_fd7effe1785c40df84fb8f3cb0fd1102",
              "IPY_MODEL_319eebb704a745f088516b318b6a08b1",
              "IPY_MODEL_5c9ddc2cc4bf48368f84307370f437b5"
            ],
            "layout": "IPY_MODEL_a090348ab68146eca354e11b2cfc3413"
          }
        },
        "fd7effe1785c40df84fb8f3cb0fd1102": {
          "model_module": "@jupyter-widgets/controls",
          "model_name": "HTMLModel",
          "model_module_version": "1.5.0",
          "state": {
            "_dom_classes": [],
            "_model_module": "@jupyter-widgets/controls",
            "_model_module_version": "1.5.0",
            "_model_name": "HTMLModel",
            "_view_count": null,
            "_view_module": "@jupyter-widgets/controls",
            "_view_module_version": "1.5.0",
            "_view_name": "HTMLView",
            "description": "",
            "description_tooltip": null,
            "layout": "IPY_MODEL_cdfc0992123549748baa7b2724c8f92d",
            "placeholder": "​",
            "style": "IPY_MODEL_2c3d8cb316e24442970cb9d0c93eb595",
            "value": "config.json: 100%"
          }
        },
        "319eebb704a745f088516b318b6a08b1": {
          "model_module": "@jupyter-widgets/controls",
          "model_name": "FloatProgressModel",
          "model_module_version": "1.5.0",
          "state": {
            "_dom_classes": [],
            "_model_module": "@jupyter-widgets/controls",
            "_model_module_version": "1.5.0",
            "_model_name": "FloatProgressModel",
            "_view_count": null,
            "_view_module": "@jupyter-widgets/controls",
            "_view_module_version": "1.5.0",
            "_view_name": "ProgressView",
            "bar_style": "success",
            "description": "",
            "description_tooltip": null,
            "layout": "IPY_MODEL_d7c602be7cae4b8ba05d4ac2a30d0ef7",
            "max": 570,
            "min": 0,
            "orientation": "horizontal",
            "style": "IPY_MODEL_342d7db21dc446beb250cd59a36a4a71",
            "value": 570
          }
        },
        "5c9ddc2cc4bf48368f84307370f437b5": {
          "model_module": "@jupyter-widgets/controls",
          "model_name": "HTMLModel",
          "model_module_version": "1.5.0",
          "state": {
            "_dom_classes": [],
            "_model_module": "@jupyter-widgets/controls",
            "_model_module_version": "1.5.0",
            "_model_name": "HTMLModel",
            "_view_count": null,
            "_view_module": "@jupyter-widgets/controls",
            "_view_module_version": "1.5.0",
            "_view_name": "HTMLView",
            "description": "",
            "description_tooltip": null,
            "layout": "IPY_MODEL_bfdb66fe0128451fb352da391f51fcef",
            "placeholder": "​",
            "style": "IPY_MODEL_511366dba3e441c1b69e7f2b05e51814",
            "value": " 570/570 [00:00&lt;00:00, 19.1kB/s]"
          }
        },
        "a090348ab68146eca354e11b2cfc3413": {
          "model_module": "@jupyter-widgets/base",
          "model_name": "LayoutModel",
          "model_module_version": "1.2.0",
          "state": {
            "_model_module": "@jupyter-widgets/base",
            "_model_module_version": "1.2.0",
            "_model_name": "LayoutModel",
            "_view_count": null,
            "_view_module": "@jupyter-widgets/base",
            "_view_module_version": "1.2.0",
            "_view_name": "LayoutView",
            "align_content": null,
            "align_items": null,
            "align_self": null,
            "border": null,
            "bottom": null,
            "display": null,
            "flex": null,
            "flex_flow": null,
            "grid_area": null,
            "grid_auto_columns": null,
            "grid_auto_flow": null,
            "grid_auto_rows": null,
            "grid_column": null,
            "grid_gap": null,
            "grid_row": null,
            "grid_template_areas": null,
            "grid_template_columns": null,
            "grid_template_rows": null,
            "height": null,
            "justify_content": null,
            "justify_items": null,
            "left": null,
            "margin": null,
            "max_height": null,
            "max_width": null,
            "min_height": null,
            "min_width": null,
            "object_fit": null,
            "object_position": null,
            "order": null,
            "overflow": null,
            "overflow_x": null,
            "overflow_y": null,
            "padding": null,
            "right": null,
            "top": null,
            "visibility": null,
            "width": null
          }
        },
        "cdfc0992123549748baa7b2724c8f92d": {
          "model_module": "@jupyter-widgets/base",
          "model_name": "LayoutModel",
          "model_module_version": "1.2.0",
          "state": {
            "_model_module": "@jupyter-widgets/base",
            "_model_module_version": "1.2.0",
            "_model_name": "LayoutModel",
            "_view_count": null,
            "_view_module": "@jupyter-widgets/base",
            "_view_module_version": "1.2.0",
            "_view_name": "LayoutView",
            "align_content": null,
            "align_items": null,
            "align_self": null,
            "border": null,
            "bottom": null,
            "display": null,
            "flex": null,
            "flex_flow": null,
            "grid_area": null,
            "grid_auto_columns": null,
            "grid_auto_flow": null,
            "grid_auto_rows": null,
            "grid_column": null,
            "grid_gap": null,
            "grid_row": null,
            "grid_template_areas": null,
            "grid_template_columns": null,
            "grid_template_rows": null,
            "height": null,
            "justify_content": null,
            "justify_items": null,
            "left": null,
            "margin": null,
            "max_height": null,
            "max_width": null,
            "min_height": null,
            "min_width": null,
            "object_fit": null,
            "object_position": null,
            "order": null,
            "overflow": null,
            "overflow_x": null,
            "overflow_y": null,
            "padding": null,
            "right": null,
            "top": null,
            "visibility": null,
            "width": null
          }
        },
        "2c3d8cb316e24442970cb9d0c93eb595": {
          "model_module": "@jupyter-widgets/controls",
          "model_name": "DescriptionStyleModel",
          "model_module_version": "1.5.0",
          "state": {
            "_model_module": "@jupyter-widgets/controls",
            "_model_module_version": "1.5.0",
            "_model_name": "DescriptionStyleModel",
            "_view_count": null,
            "_view_module": "@jupyter-widgets/base",
            "_view_module_version": "1.2.0",
            "_view_name": "StyleView",
            "description_width": ""
          }
        },
        "d7c602be7cae4b8ba05d4ac2a30d0ef7": {
          "model_module": "@jupyter-widgets/base",
          "model_name": "LayoutModel",
          "model_module_version": "1.2.0",
          "state": {
            "_model_module": "@jupyter-widgets/base",
            "_model_module_version": "1.2.0",
            "_model_name": "LayoutModel",
            "_view_count": null,
            "_view_module": "@jupyter-widgets/base",
            "_view_module_version": "1.2.0",
            "_view_name": "LayoutView",
            "align_content": null,
            "align_items": null,
            "align_self": null,
            "border": null,
            "bottom": null,
            "display": null,
            "flex": null,
            "flex_flow": null,
            "grid_area": null,
            "grid_auto_columns": null,
            "grid_auto_flow": null,
            "grid_auto_rows": null,
            "grid_column": null,
            "grid_gap": null,
            "grid_row": null,
            "grid_template_areas": null,
            "grid_template_columns": null,
            "grid_template_rows": null,
            "height": null,
            "justify_content": null,
            "justify_items": null,
            "left": null,
            "margin": null,
            "max_height": null,
            "max_width": null,
            "min_height": null,
            "min_width": null,
            "object_fit": null,
            "object_position": null,
            "order": null,
            "overflow": null,
            "overflow_x": null,
            "overflow_y": null,
            "padding": null,
            "right": null,
            "top": null,
            "visibility": null,
            "width": null
          }
        },
        "342d7db21dc446beb250cd59a36a4a71": {
          "model_module": "@jupyter-widgets/controls",
          "model_name": "ProgressStyleModel",
          "model_module_version": "1.5.0",
          "state": {
            "_model_module": "@jupyter-widgets/controls",
            "_model_module_version": "1.5.0",
            "_model_name": "ProgressStyleModel",
            "_view_count": null,
            "_view_module": "@jupyter-widgets/base",
            "_view_module_version": "1.2.0",
            "_view_name": "StyleView",
            "bar_color": null,
            "description_width": ""
          }
        },
        "bfdb66fe0128451fb352da391f51fcef": {
          "model_module": "@jupyter-widgets/base",
          "model_name": "LayoutModel",
          "model_module_version": "1.2.0",
          "state": {
            "_model_module": "@jupyter-widgets/base",
            "_model_module_version": "1.2.0",
            "_model_name": "LayoutModel",
            "_view_count": null,
            "_view_module": "@jupyter-widgets/base",
            "_view_module_version": "1.2.0",
            "_view_name": "LayoutView",
            "align_content": null,
            "align_items": null,
            "align_self": null,
            "border": null,
            "bottom": null,
            "display": null,
            "flex": null,
            "flex_flow": null,
            "grid_area": null,
            "grid_auto_columns": null,
            "grid_auto_flow": null,
            "grid_auto_rows": null,
            "grid_column": null,
            "grid_gap": null,
            "grid_row": null,
            "grid_template_areas": null,
            "grid_template_columns": null,
            "grid_template_rows": null,
            "height": null,
            "justify_content": null,
            "justify_items": null,
            "left": null,
            "margin": null,
            "max_height": null,
            "max_width": null,
            "min_height": null,
            "min_width": null,
            "object_fit": null,
            "object_position": null,
            "order": null,
            "overflow": null,
            "overflow_x": null,
            "overflow_y": null,
            "padding": null,
            "right": null,
            "top": null,
            "visibility": null,
            "width": null
          }
        },
        "511366dba3e441c1b69e7f2b05e51814": {
          "model_module": "@jupyter-widgets/controls",
          "model_name": "DescriptionStyleModel",
          "model_module_version": "1.5.0",
          "state": {
            "_model_module": "@jupyter-widgets/controls",
            "_model_module_version": "1.5.0",
            "_model_name": "DescriptionStyleModel",
            "_view_count": null,
            "_view_module": "@jupyter-widgets/base",
            "_view_module_version": "1.2.0",
            "_view_name": "StyleView",
            "description_width": ""
          }
        },
        "29408a14ab314ca5ad1342f546aeb2f5": {
          "model_module": "@jupyter-widgets/controls",
          "model_name": "HBoxModel",
          "model_module_version": "1.5.0",
          "state": {
            "_dom_classes": [],
            "_model_module": "@jupyter-widgets/controls",
            "_model_module_version": "1.5.0",
            "_model_name": "HBoxModel",
            "_view_count": null,
            "_view_module": "@jupyter-widgets/controls",
            "_view_module_version": "1.5.0",
            "_view_name": "HBoxView",
            "box_style": "",
            "children": [
              "IPY_MODEL_38ed2e8da6ab439f94949aae9a1875c3",
              "IPY_MODEL_e05e129d07e546bea2bcdf80be7cdf20",
              "IPY_MODEL_a4a8f55bd1864b9d91e1310ce8f2e784"
            ],
            "layout": "IPY_MODEL_87ab928fd5f3422d8068c54ba0a9706f"
          }
        },
        "38ed2e8da6ab439f94949aae9a1875c3": {
          "model_module": "@jupyter-widgets/controls",
          "model_name": "HTMLModel",
          "model_module_version": "1.5.0",
          "state": {
            "_dom_classes": [],
            "_model_module": "@jupyter-widgets/controls",
            "_model_module_version": "1.5.0",
            "_model_name": "HTMLModel",
            "_view_count": null,
            "_view_module": "@jupyter-widgets/controls",
            "_view_module_version": "1.5.0",
            "_view_name": "HTMLView",
            "description": "",
            "description_tooltip": null,
            "layout": "IPY_MODEL_aca12ee0143d4284baa691f751bff249",
            "placeholder": "​",
            "style": "IPY_MODEL_e0b42f8defe149b08f86f15b7b9b6453",
            "value": "model.safetensors: 100%"
          }
        },
        "e05e129d07e546bea2bcdf80be7cdf20": {
          "model_module": "@jupyter-widgets/controls",
          "model_name": "FloatProgressModel",
          "model_module_version": "1.5.0",
          "state": {
            "_dom_classes": [],
            "_model_module": "@jupyter-widgets/controls",
            "_model_module_version": "1.5.0",
            "_model_name": "FloatProgressModel",
            "_view_count": null,
            "_view_module": "@jupyter-widgets/controls",
            "_view_module_version": "1.5.0",
            "_view_name": "ProgressView",
            "bar_style": "success",
            "description": "",
            "description_tooltip": null,
            "layout": "IPY_MODEL_1c3efa4c3efa4e0aaeeb3c8934ccee1c",
            "max": 440449768,
            "min": 0,
            "orientation": "horizontal",
            "style": "IPY_MODEL_a5f4ceac38334ba0aa126aac5809dfff",
            "value": 440449768
          }
        },
        "a4a8f55bd1864b9d91e1310ce8f2e784": {
          "model_module": "@jupyter-widgets/controls",
          "model_name": "HTMLModel",
          "model_module_version": "1.5.0",
          "state": {
            "_dom_classes": [],
            "_model_module": "@jupyter-widgets/controls",
            "_model_module_version": "1.5.0",
            "_model_name": "HTMLModel",
            "_view_count": null,
            "_view_module": "@jupyter-widgets/controls",
            "_view_module_version": "1.5.0",
            "_view_name": "HTMLView",
            "description": "",
            "description_tooltip": null,
            "layout": "IPY_MODEL_73a168d78958441da0acc17fb29e3d75",
            "placeholder": "​",
            "style": "IPY_MODEL_55aeccfe3bd243baa5a8e3881cbf56fb",
            "value": " 440M/440M [00:01&lt;00:00, 265MB/s]"
          }
        },
        "87ab928fd5f3422d8068c54ba0a9706f": {
          "model_module": "@jupyter-widgets/base",
          "model_name": "LayoutModel",
          "model_module_version": "1.2.0",
          "state": {
            "_model_module": "@jupyter-widgets/base",
            "_model_module_version": "1.2.0",
            "_model_name": "LayoutModel",
            "_view_count": null,
            "_view_module": "@jupyter-widgets/base",
            "_view_module_version": "1.2.0",
            "_view_name": "LayoutView",
            "align_content": null,
            "align_items": null,
            "align_self": null,
            "border": null,
            "bottom": null,
            "display": null,
            "flex": null,
            "flex_flow": null,
            "grid_area": null,
            "grid_auto_columns": null,
            "grid_auto_flow": null,
            "grid_auto_rows": null,
            "grid_column": null,
            "grid_gap": null,
            "grid_row": null,
            "grid_template_areas": null,
            "grid_template_columns": null,
            "grid_template_rows": null,
            "height": null,
            "justify_content": null,
            "justify_items": null,
            "left": null,
            "margin": null,
            "max_height": null,
            "max_width": null,
            "min_height": null,
            "min_width": null,
            "object_fit": null,
            "object_position": null,
            "order": null,
            "overflow": null,
            "overflow_x": null,
            "overflow_y": null,
            "padding": null,
            "right": null,
            "top": null,
            "visibility": null,
            "width": null
          }
        },
        "aca12ee0143d4284baa691f751bff249": {
          "model_module": "@jupyter-widgets/base",
          "model_name": "LayoutModel",
          "model_module_version": "1.2.0",
          "state": {
            "_model_module": "@jupyter-widgets/base",
            "_model_module_version": "1.2.0",
            "_model_name": "LayoutModel",
            "_view_count": null,
            "_view_module": "@jupyter-widgets/base",
            "_view_module_version": "1.2.0",
            "_view_name": "LayoutView",
            "align_content": null,
            "align_items": null,
            "align_self": null,
            "border": null,
            "bottom": null,
            "display": null,
            "flex": null,
            "flex_flow": null,
            "grid_area": null,
            "grid_auto_columns": null,
            "grid_auto_flow": null,
            "grid_auto_rows": null,
            "grid_column": null,
            "grid_gap": null,
            "grid_row": null,
            "grid_template_areas": null,
            "grid_template_columns": null,
            "grid_template_rows": null,
            "height": null,
            "justify_content": null,
            "justify_items": null,
            "left": null,
            "margin": null,
            "max_height": null,
            "max_width": null,
            "min_height": null,
            "min_width": null,
            "object_fit": null,
            "object_position": null,
            "order": null,
            "overflow": null,
            "overflow_x": null,
            "overflow_y": null,
            "padding": null,
            "right": null,
            "top": null,
            "visibility": null,
            "width": null
          }
        },
        "e0b42f8defe149b08f86f15b7b9b6453": {
          "model_module": "@jupyter-widgets/controls",
          "model_name": "DescriptionStyleModel",
          "model_module_version": "1.5.0",
          "state": {
            "_model_module": "@jupyter-widgets/controls",
            "_model_module_version": "1.5.0",
            "_model_name": "DescriptionStyleModel",
            "_view_count": null,
            "_view_module": "@jupyter-widgets/base",
            "_view_module_version": "1.2.0",
            "_view_name": "StyleView",
            "description_width": ""
          }
        },
        "1c3efa4c3efa4e0aaeeb3c8934ccee1c": {
          "model_module": "@jupyter-widgets/base",
          "model_name": "LayoutModel",
          "model_module_version": "1.2.0",
          "state": {
            "_model_module": "@jupyter-widgets/base",
            "_model_module_version": "1.2.0",
            "_model_name": "LayoutModel",
            "_view_count": null,
            "_view_module": "@jupyter-widgets/base",
            "_view_module_version": "1.2.0",
            "_view_name": "LayoutView",
            "align_content": null,
            "align_items": null,
            "align_self": null,
            "border": null,
            "bottom": null,
            "display": null,
            "flex": null,
            "flex_flow": null,
            "grid_area": null,
            "grid_auto_columns": null,
            "grid_auto_flow": null,
            "grid_auto_rows": null,
            "grid_column": null,
            "grid_gap": null,
            "grid_row": null,
            "grid_template_areas": null,
            "grid_template_columns": null,
            "grid_template_rows": null,
            "height": null,
            "justify_content": null,
            "justify_items": null,
            "left": null,
            "margin": null,
            "max_height": null,
            "max_width": null,
            "min_height": null,
            "min_width": null,
            "object_fit": null,
            "object_position": null,
            "order": null,
            "overflow": null,
            "overflow_x": null,
            "overflow_y": null,
            "padding": null,
            "right": null,
            "top": null,
            "visibility": null,
            "width": null
          }
        },
        "a5f4ceac38334ba0aa126aac5809dfff": {
          "model_module": "@jupyter-widgets/controls",
          "model_name": "ProgressStyleModel",
          "model_module_version": "1.5.0",
          "state": {
            "_model_module": "@jupyter-widgets/controls",
            "_model_module_version": "1.5.0",
            "_model_name": "ProgressStyleModel",
            "_view_count": null,
            "_view_module": "@jupyter-widgets/base",
            "_view_module_version": "1.2.0",
            "_view_name": "StyleView",
            "bar_color": null,
            "description_width": ""
          }
        },
        "73a168d78958441da0acc17fb29e3d75": {
          "model_module": "@jupyter-widgets/base",
          "model_name": "LayoutModel",
          "model_module_version": "1.2.0",
          "state": {
            "_model_module": "@jupyter-widgets/base",
            "_model_module_version": "1.2.0",
            "_model_name": "LayoutModel",
            "_view_count": null,
            "_view_module": "@jupyter-widgets/base",
            "_view_module_version": "1.2.0",
            "_view_name": "LayoutView",
            "align_content": null,
            "align_items": null,
            "align_self": null,
            "border": null,
            "bottom": null,
            "display": null,
            "flex": null,
            "flex_flow": null,
            "grid_area": null,
            "grid_auto_columns": null,
            "grid_auto_flow": null,
            "grid_auto_rows": null,
            "grid_column": null,
            "grid_gap": null,
            "grid_row": null,
            "grid_template_areas": null,
            "grid_template_columns": null,
            "grid_template_rows": null,
            "height": null,
            "justify_content": null,
            "justify_items": null,
            "left": null,
            "margin": null,
            "max_height": null,
            "max_width": null,
            "min_height": null,
            "min_width": null,
            "object_fit": null,
            "object_position": null,
            "order": null,
            "overflow": null,
            "overflow_x": null,
            "overflow_y": null,
            "padding": null,
            "right": null,
            "top": null,
            "visibility": null,
            "width": null
          }
        },
        "55aeccfe3bd243baa5a8e3881cbf56fb": {
          "model_module": "@jupyter-widgets/controls",
          "model_name": "DescriptionStyleModel",
          "model_module_version": "1.5.0",
          "state": {
            "_model_module": "@jupyter-widgets/controls",
            "_model_module_version": "1.5.0",
            "_model_name": "DescriptionStyleModel",
            "_view_count": null,
            "_view_module": "@jupyter-widgets/base",
            "_view_module_version": "1.2.0",
            "_view_name": "StyleView",
            "description_width": ""
          }
        }
      }
    }
  },
  "cells": [
    {
      "cell_type": "code",
      "execution_count": null,
      "metadata": {
        "id": "0lfJqaZ3noDC"
      },
      "outputs": [],
      "source": [
        "!pip install -q transformers datasets\n",
        "\n"
      ]
    },
    {
      "cell_type": "code",
      "source": [
        "!git clone https://github.com/google-research/goemotions\n"
      ],
      "metadata": {
        "colab": {
          "base_uri": "https://localhost:8080/"
        },
        "id": "6u2MxpObnzvK",
        "outputId": "3c9d4bfc-9d35-4f8b-c522-ea070277163d"
      },
      "execution_count": null,
      "outputs": [
        {
          "output_type": "stream",
          "name": "stdout",
          "text": [
            "Cloning into 'goemotions'...\n",
            "fatal: could not read Username for 'https://github.com': No such device or address\n"
          ]
        }
      ]
    },
    {
      "cell_type": "code",
      "source": [
        "import kagglehub\n",
        "\n",
        "# Download latest version\n",
        "path = kagglehub.dataset_download(\"debarshichanda/goemotions\")\n",
        "\n",
        "print(\"Path to dataset files:\", path)"
      ],
      "metadata": {
        "colab": {
          "base_uri": "https://localhost:8080/"
        },
        "id": "YVoFgiX5oAWT",
        "outputId": "8d5602e2-8bb9-4838-f7e5-73101ecf6351"
      },
      "execution_count": null,
      "outputs": [
        {
          "output_type": "stream",
          "name": "stdout",
          "text": [
            "Downloading from https://www.kaggle.com/api/v1/datasets/download/debarshichanda/goemotions?dataset_version_number=6...\n"
          ]
        },
        {
          "output_type": "stream",
          "name": "stderr",
          "text": [
            "100%|██████████| 17.6M/17.6M [00:01<00:00, 9.64MB/s]"
          ]
        },
        {
          "output_type": "stream",
          "name": "stdout",
          "text": [
            "Extracting files...\n"
          ]
        },
        {
          "output_type": "stream",
          "name": "stderr",
          "text": [
            "\n"
          ]
        },
        {
          "output_type": "stream",
          "name": "stdout",
          "text": [
            "Path to dataset files: /root/.cache/kagglehub/datasets/debarshichanda/goemotions/versions/6\n"
          ]
        }
      ]
    },
    {
      "cell_type": "code",
      "source": [
        "import os\n",
        "\n",
        "# List all files in the directory\n",
        "for dirname, _, filenames in os.walk('/kaggle/input/goemotions'):\n",
        "    for filename in filenames:\n",
        "        print(os.path.join(dirname, filename))\n"
      ],
      "metadata": {
        "id": "1lIb7sCroVwL"
      },
      "execution_count": null,
      "outputs": []
    },
    {
      "cell_type": "code",
      "source": [
        "import os\n",
        "base_path = \"/root/.cache/kagglehub/datasets/debarshichanda/goemotions/versions/6\"\n",
        "print(os.listdir(f\"{base_path}/data/full_dataset\"))\n"
      ],
      "metadata": {
        "colab": {
          "base_uri": "https://localhost:8080/"
        },
        "id": "UCPpZFCba0gB",
        "outputId": "3f7802b9-5bdb-4881-c3d5-fd3cf207692b"
      },
      "execution_count": null,
      "outputs": [
        {
          "output_type": "stream",
          "name": "stdout",
          "text": [
            "['goemotions_2.csv', 'goemotions_1.csv', 'goemotions_3.csv']\n"
          ]
        }
      ]
    },
    {
      "cell_type": "code",
      "source": [
        "import pandas as pd\n",
        "\n",
        "base_path = \"/root/.cache/kagglehub/datasets/debarshichanda/goemotions/versions/6/data/full_dataset\"\n",
        "\n",
        "df_train = pd.read_csv(f\"{base_path}/goemotions_1.csv\", header=None, low_memory=False)\n",
        "df_dev   = pd.read_csv(f\"{base_path}/goemotions_2.csv\", header=None, low_memory=False)\n",
        "df_test  = pd.read_csv(f\"{base_path}/goemotions_3.csv\", header=None, low_memory=False)\n"
      ],
      "metadata": {
        "id": "7f9aSizjpr68"
      },
      "execution_count": null,
      "outputs": []
    },
    {
      "cell_type": "code",
      "source": [
        "print(\"Train shape:\", df_train.shape)\n",
        "print(\"Dev shape:\", df_dev.shape)\n",
        "print(\"Test shape:\", df_test.shape)\n"
      ],
      "metadata": {
        "colab": {
          "base_uri": "https://localhost:8080/"
        },
        "id": "lbW_f6iApwFI",
        "outputId": "cc004791-4045-43f3-ddea-ba7f8c6cb76d"
      },
      "execution_count": null,
      "outputs": [
        {
          "output_type": "stream",
          "name": "stdout",
          "text": [
            "Train shape: (70001, 37)\n",
            "Dev shape: (70001, 37)\n",
            "Test shape: (71226, 37)\n"
          ]
        }
      ]
    },
    {
      "cell_type": "code",
      "source": [
        "emotions = [\n",
        "    \"admiration\", \"amusement\", \"anger\", \"annoyance\", \"approval\", \"caring\",\n",
        "    \"confusion\", \"curiosity\", \"desire\", \"disappointment\", \"disapproval\",\n",
        "    \"disgust\", \"embarrassment\", \"excitement\", \"fear\", \"gratitude\", \"grief\",\n",
        "    \"joy\", \"love\", \"nervousness\", \"optimism\", \"pride\", \"realization\", \"relief\",\n",
        "    \"remorse\", \"sadness\", \"surprise\"\n",
        "]\n"
      ],
      "metadata": {
        "id": "OkqV7pZNa_VA"
      },
      "execution_count": null,
      "outputs": []
    },
    {
      "cell_type": "code",
      "source": [
        "columns = [\"text\"] + emotions + [\"neutral\", \"id\", \"subreddit\", \"parent_id\", \"link_id\", \"created_utc\", \"rater_id\", \"example_very_unclear\", \"unclear_label\"]\n"
      ],
      "metadata": {
        "id": "CBj1_ZHmqEbc"
      },
      "execution_count": null,
      "outputs": []
    },
    {
      "cell_type": "code",
      "source": [
        "df_train.columns = columns\n",
        "df_dev.columns = columns\n",
        "df_test.columns = columns\n"
      ],
      "metadata": {
        "id": "KXJO2soXblC7"
      },
      "execution_count": null,
      "outputs": []
    },
    {
      "cell_type": "code",
      "source": [
        "df = pd.concat([df_train, df_dev, df_test], ignore_index=True)\n"
      ],
      "metadata": {
        "id": "AzwIf3X5qV0o"
      },
      "execution_count": null,
      "outputs": []
    },
    {
      "cell_type": "code",
      "source": [
        "import numpy as np\n",
        "\n",
        "# Emotion columns only\n",
        "emotion_cols = emotions\n",
        "\n",
        "# Multi-hot vector (already in 0s and 1s)\n",
        "df['label_vector'] = df[emotion_cols].values.tolist()\n",
        "\n",
        "# Optional: drop other columns if not needed\n",
        "df = df[[\"text\", \"label_vector\"]]\n",
        "df.head()\n"
      ],
      "metadata": {
        "colab": {
          "base_uri": "https://localhost:8080/",
          "height": 206
        },
        "id": "pzt8OnxYqX2E",
        "outputId": "17d59d10-51e5-4f69-e9dd-2f2c88d36be1"
      },
      "execution_count": null,
      "outputs": [
        {
          "output_type": "execute_result",
          "data": {
            "text/plain": [
              "                                                text  \\\n",
              "0                                               text   \n",
              "1                                    That game hurt.   \n",
              "2   >sexuality shouldn’t be a grouping category I...   \n",
              "3     You do right, if you don't care then fuck 'em!   \n",
              "4                                 Man I love reddit.   \n",
              "\n",
              "                                        label_vector  \n",
              "0  [id, author, subreddit, link_id, parent_id, cr...  \n",
              "1  [eew5j0j, Brdd9, nrl, t3_ajis4z, t1_eew18eq, 1...  \n",
              "2  [eemcysk, TheGreen888, unpopularopinion, t3_ai...  \n",
              "3  [ed2mah1, Labalool, confessions, t3_abru74, t1...  \n",
              "4  [eeibobj, MrsRobertshaw, facepalm, t3_ahulml, ...  "
            ],
            "text/html": [
              "\n",
              "  <div id=\"df-5c8e2784-c23b-45a8-99b4-81824b959f50\" class=\"colab-df-container\">\n",
              "    <div>\n",
              "<style scoped>\n",
              "    .dataframe tbody tr th:only-of-type {\n",
              "        vertical-align: middle;\n",
              "    }\n",
              "\n",
              "    .dataframe tbody tr th {\n",
              "        vertical-align: top;\n",
              "    }\n",
              "\n",
              "    .dataframe thead th {\n",
              "        text-align: right;\n",
              "    }\n",
              "</style>\n",
              "<table border=\"1\" class=\"dataframe\">\n",
              "  <thead>\n",
              "    <tr style=\"text-align: right;\">\n",
              "      <th></th>\n",
              "      <th>text</th>\n",
              "      <th>label_vector</th>\n",
              "    </tr>\n",
              "  </thead>\n",
              "  <tbody>\n",
              "    <tr>\n",
              "      <th>0</th>\n",
              "      <td>text</td>\n",
              "      <td>[id, author, subreddit, link_id, parent_id, cr...</td>\n",
              "    </tr>\n",
              "    <tr>\n",
              "      <th>1</th>\n",
              "      <td>That game hurt.</td>\n",
              "      <td>[eew5j0j, Brdd9, nrl, t3_ajis4z, t1_eew18eq, 1...</td>\n",
              "    </tr>\n",
              "    <tr>\n",
              "      <th>2</th>\n",
              "      <td>&gt;sexuality shouldn’t be a grouping category I...</td>\n",
              "      <td>[eemcysk, TheGreen888, unpopularopinion, t3_ai...</td>\n",
              "    </tr>\n",
              "    <tr>\n",
              "      <th>3</th>\n",
              "      <td>You do right, if you don't care then fuck 'em!</td>\n",
              "      <td>[ed2mah1, Labalool, confessions, t3_abru74, t1...</td>\n",
              "    </tr>\n",
              "    <tr>\n",
              "      <th>4</th>\n",
              "      <td>Man I love reddit.</td>\n",
              "      <td>[eeibobj, MrsRobertshaw, facepalm, t3_ahulml, ...</td>\n",
              "    </tr>\n",
              "  </tbody>\n",
              "</table>\n",
              "</div>\n",
              "    <div class=\"colab-df-buttons\">\n",
              "\n",
              "  <div class=\"colab-df-container\">\n",
              "    <button class=\"colab-df-convert\" onclick=\"convertToInteractive('df-5c8e2784-c23b-45a8-99b4-81824b959f50')\"\n",
              "            title=\"Convert this dataframe to an interactive table.\"\n",
              "            style=\"display:none;\">\n",
              "\n",
              "  <svg xmlns=\"http://www.w3.org/2000/svg\" height=\"24px\" viewBox=\"0 -960 960 960\">\n",
              "    <path d=\"M120-120v-720h720v720H120Zm60-500h600v-160H180v160Zm220 220h160v-160H400v160Zm0 220h160v-160H400v160ZM180-400h160v-160H180v160Zm440 0h160v-160H620v160ZM180-180h160v-160H180v160Zm440 0h160v-160H620v160Z\"/>\n",
              "  </svg>\n",
              "    </button>\n",
              "\n",
              "  <style>\n",
              "    .colab-df-container {\n",
              "      display:flex;\n",
              "      gap: 12px;\n",
              "    }\n",
              "\n",
              "    .colab-df-convert {\n",
              "      background-color: #E8F0FE;\n",
              "      border: none;\n",
              "      border-radius: 50%;\n",
              "      cursor: pointer;\n",
              "      display: none;\n",
              "      fill: #1967D2;\n",
              "      height: 32px;\n",
              "      padding: 0 0 0 0;\n",
              "      width: 32px;\n",
              "    }\n",
              "\n",
              "    .colab-df-convert:hover {\n",
              "      background-color: #E2EBFA;\n",
              "      box-shadow: 0px 1px 2px rgba(60, 64, 67, 0.3), 0px 1px 3px 1px rgba(60, 64, 67, 0.15);\n",
              "      fill: #174EA6;\n",
              "    }\n",
              "\n",
              "    .colab-df-buttons div {\n",
              "      margin-bottom: 4px;\n",
              "    }\n",
              "\n",
              "    [theme=dark] .colab-df-convert {\n",
              "      background-color: #3B4455;\n",
              "      fill: #D2E3FC;\n",
              "    }\n",
              "\n",
              "    [theme=dark] .colab-df-convert:hover {\n",
              "      background-color: #434B5C;\n",
              "      box-shadow: 0px 1px 3px 1px rgba(0, 0, 0, 0.15);\n",
              "      filter: drop-shadow(0px 1px 2px rgba(0, 0, 0, 0.3));\n",
              "      fill: #FFFFFF;\n",
              "    }\n",
              "  </style>\n",
              "\n",
              "    <script>\n",
              "      const buttonEl =\n",
              "        document.querySelector('#df-5c8e2784-c23b-45a8-99b4-81824b959f50 button.colab-df-convert');\n",
              "      buttonEl.style.display =\n",
              "        google.colab.kernel.accessAllowed ? 'block' : 'none';\n",
              "\n",
              "      async function convertToInteractive(key) {\n",
              "        const element = document.querySelector('#df-5c8e2784-c23b-45a8-99b4-81824b959f50');\n",
              "        const dataTable =\n",
              "          await google.colab.kernel.invokeFunction('convertToInteractive',\n",
              "                                                    [key], {});\n",
              "        if (!dataTable) return;\n",
              "\n",
              "        const docLinkHtml = 'Like what you see? Visit the ' +\n",
              "          '<a target=\"_blank\" href=https://colab.research.google.com/notebooks/data_table.ipynb>data table notebook</a>'\n",
              "          + ' to learn more about interactive tables.';\n",
              "        element.innerHTML = '';\n",
              "        dataTable['output_type'] = 'display_data';\n",
              "        await google.colab.output.renderOutput(dataTable, element);\n",
              "        const docLink = document.createElement('div');\n",
              "        docLink.innerHTML = docLinkHtml;\n",
              "        element.appendChild(docLink);\n",
              "      }\n",
              "    </script>\n",
              "  </div>\n",
              "\n",
              "\n",
              "    <div id=\"df-5ceddf7d-f5f0-45bf-b586-913f0ec05768\">\n",
              "      <button class=\"colab-df-quickchart\" onclick=\"quickchart('df-5ceddf7d-f5f0-45bf-b586-913f0ec05768')\"\n",
              "                title=\"Suggest charts\"\n",
              "                style=\"display:none;\">\n",
              "\n",
              "<svg xmlns=\"http://www.w3.org/2000/svg\" height=\"24px\"viewBox=\"0 0 24 24\"\n",
              "     width=\"24px\">\n",
              "    <g>\n",
              "        <path d=\"M19 3H5c-1.1 0-2 .9-2 2v14c0 1.1.9 2 2 2h14c1.1 0 2-.9 2-2V5c0-1.1-.9-2-2-2zM9 17H7v-7h2v7zm4 0h-2V7h2v10zm4 0h-2v-4h2v4z\"/>\n",
              "    </g>\n",
              "</svg>\n",
              "      </button>\n",
              "\n",
              "<style>\n",
              "  .colab-df-quickchart {\n",
              "      --bg-color: #E8F0FE;\n",
              "      --fill-color: #1967D2;\n",
              "      --hover-bg-color: #E2EBFA;\n",
              "      --hover-fill-color: #174EA6;\n",
              "      --disabled-fill-color: #AAA;\n",
              "      --disabled-bg-color: #DDD;\n",
              "  }\n",
              "\n",
              "  [theme=dark] .colab-df-quickchart {\n",
              "      --bg-color: #3B4455;\n",
              "      --fill-color: #D2E3FC;\n",
              "      --hover-bg-color: #434B5C;\n",
              "      --hover-fill-color: #FFFFFF;\n",
              "      --disabled-bg-color: #3B4455;\n",
              "      --disabled-fill-color: #666;\n",
              "  }\n",
              "\n",
              "  .colab-df-quickchart {\n",
              "    background-color: var(--bg-color);\n",
              "    border: none;\n",
              "    border-radius: 50%;\n",
              "    cursor: pointer;\n",
              "    display: none;\n",
              "    fill: var(--fill-color);\n",
              "    height: 32px;\n",
              "    padding: 0;\n",
              "    width: 32px;\n",
              "  }\n",
              "\n",
              "  .colab-df-quickchart:hover {\n",
              "    background-color: var(--hover-bg-color);\n",
              "    box-shadow: 0 1px 2px rgba(60, 64, 67, 0.3), 0 1px 3px 1px rgba(60, 64, 67, 0.15);\n",
              "    fill: var(--button-hover-fill-color);\n",
              "  }\n",
              "\n",
              "  .colab-df-quickchart-complete:disabled,\n",
              "  .colab-df-quickchart-complete:disabled:hover {\n",
              "    background-color: var(--disabled-bg-color);\n",
              "    fill: var(--disabled-fill-color);\n",
              "    box-shadow: none;\n",
              "  }\n",
              "\n",
              "  .colab-df-spinner {\n",
              "    border: 2px solid var(--fill-color);\n",
              "    border-color: transparent;\n",
              "    border-bottom-color: var(--fill-color);\n",
              "    animation:\n",
              "      spin 1s steps(1) infinite;\n",
              "  }\n",
              "\n",
              "  @keyframes spin {\n",
              "    0% {\n",
              "      border-color: transparent;\n",
              "      border-bottom-color: var(--fill-color);\n",
              "      border-left-color: var(--fill-color);\n",
              "    }\n",
              "    20% {\n",
              "      border-color: transparent;\n",
              "      border-left-color: var(--fill-color);\n",
              "      border-top-color: var(--fill-color);\n",
              "    }\n",
              "    30% {\n",
              "      border-color: transparent;\n",
              "      border-left-color: var(--fill-color);\n",
              "      border-top-color: var(--fill-color);\n",
              "      border-right-color: var(--fill-color);\n",
              "    }\n",
              "    40% {\n",
              "      border-color: transparent;\n",
              "      border-right-color: var(--fill-color);\n",
              "      border-top-color: var(--fill-color);\n",
              "    }\n",
              "    60% {\n",
              "      border-color: transparent;\n",
              "      border-right-color: var(--fill-color);\n",
              "    }\n",
              "    80% {\n",
              "      border-color: transparent;\n",
              "      border-right-color: var(--fill-color);\n",
              "      border-bottom-color: var(--fill-color);\n",
              "    }\n",
              "    90% {\n",
              "      border-color: transparent;\n",
              "      border-bottom-color: var(--fill-color);\n",
              "    }\n",
              "  }\n",
              "</style>\n",
              "\n",
              "      <script>\n",
              "        async function quickchart(key) {\n",
              "          const quickchartButtonEl =\n",
              "            document.querySelector('#' + key + ' button');\n",
              "          quickchartButtonEl.disabled = true;  // To prevent multiple clicks.\n",
              "          quickchartButtonEl.classList.add('colab-df-spinner');\n",
              "          try {\n",
              "            const charts = await google.colab.kernel.invokeFunction(\n",
              "                'suggestCharts', [key], {});\n",
              "          } catch (error) {\n",
              "            console.error('Error during call to suggestCharts:', error);\n",
              "          }\n",
              "          quickchartButtonEl.classList.remove('colab-df-spinner');\n",
              "          quickchartButtonEl.classList.add('colab-df-quickchart-complete');\n",
              "        }\n",
              "        (() => {\n",
              "          let quickchartButtonEl =\n",
              "            document.querySelector('#df-5ceddf7d-f5f0-45bf-b586-913f0ec05768 button');\n",
              "          quickchartButtonEl.style.display =\n",
              "            google.colab.kernel.accessAllowed ? 'block' : 'none';\n",
              "        })();\n",
              "      </script>\n",
              "    </div>\n",
              "\n",
              "    </div>\n",
              "  </div>\n"
            ],
            "application/vnd.google.colaboratory.intrinsic+json": {
              "type": "dataframe",
              "variable_name": "df"
            }
          },
          "metadata": {},
          "execution_count": 12
        }
      ]
    },
    {
      "cell_type": "code",
      "source": [
        "import pandas as pd\n",
        "\n",
        "# Paths to the three CSV files\n",
        "base_path = '/root/.cache/kagglehub/datasets/debarshichanda/goemotions/versions/6/data/full_dataset/'\n",
        "\n",
        "# Load each CSV\n",
        "df1 = pd.read_csv(base_path + 'goemotions_1.csv', header=None, low_memory=False)\n",
        "df2 = pd.read_csv(base_path + 'goemotions_2.csv', header=None, low_memory=False)\n",
        "df3 = pd.read_csv(base_path + 'goemotions_3.csv', header=None, low_memory=False)\n",
        "\n",
        "# Combine them into one DataFrame\n",
        "df_all = pd.concat([df1, df2, df3], ignore_index=True)\n",
        "\n",
        "# Check the result\n",
        "print(f\"Merged DataFrame shape: {df_all.shape}\")\n",
        "print(df_all.head())\n"
      ],
      "metadata": {
        "colab": {
          "base_uri": "https://localhost:8080/"
        },
        "id": "n2STHTomqZ_x",
        "outputId": "87714cd3-2d96-4ba0-c445-d0196bb69a99"
      },
      "execution_count": null,
      "outputs": [
        {
          "output_type": "stream",
          "name": "stdout",
          "text": [
            "Merged DataFrame shape: (211228, 37)\n",
            "                                                  0        1              2   \\\n",
            "0                                               text       id         author   \n",
            "1                                    That game hurt.  eew5j0j          Brdd9   \n",
            "2   >sexuality shouldn’t be a grouping category I...  eemcysk    TheGreen888   \n",
            "3     You do right, if you don't care then fuck 'em!  ed2mah1       Labalool   \n",
            "4                                 Man I love reddit.  eeibobj  MrsRobertshaw   \n",
            "\n",
            "                 3          4           5             6         7   \\\n",
            "0         subreddit    link_id   parent_id   created_utc  rater_id   \n",
            "1               nrl  t3_ajis4z  t1_eew18eq  1548381039.0         1   \n",
            "2  unpopularopinion  t3_ai4q37   t3_ai4q37  1548084169.0        37   \n",
            "3       confessions  t3_abru74  t1_ed2m7g7  1546427744.0        37   \n",
            "4          facepalm  t3_ahulml   t3_ahulml  1547965054.0        18   \n",
            "\n",
            "                     8           9   ...    27           28        29     30  \\\n",
            "0  example_very_unclear  admiration  ...  love  nervousness  optimism  pride   \n",
            "1                 False           0  ...     0            0         0      0   \n",
            "2                  True           0  ...     0            0         0      0   \n",
            "3                 False           0  ...     0            0         0      0   \n",
            "4                 False           0  ...     1            0         0      0   \n",
            "\n",
            "            31      32       33       34        35       36  \n",
            "0  realization  relief  remorse  sadness  surprise  neutral  \n",
            "1            0       0        0        1         0        0  \n",
            "2            0       0        0        0         0        0  \n",
            "3            0       0        0        0         0        1  \n",
            "4            0       0        0        0         0        0  \n",
            "\n",
            "[5 rows x 37 columns]\n"
          ]
        }
      ]
    },
    {
      "cell_type": "code",
      "source": [
        "# Emotion labels as per the GoEmotions dataset\n",
        "emotion_labels = [\n",
        "    'admiration', 'amusement', 'anger', 'annoyance', 'approval', 'caring', 'confusion',\n",
        "    'curiosity', 'desire', 'disappointment', 'disapproval', 'disgust', 'embarrassment',\n",
        "    'excitement', 'fear', 'gratitude', 'grief', 'joy', 'love', 'nervousness', 'optimism',\n",
        "    'pride', 'realization', 'relief', 'remorse', 'sadness', 'surprise'\n",
        "]\n",
        "\n",
        "# Full column list\n",
        "column_names = [\n",
        "    'text', 'id', 'author', 'subreddit', 'link_id', 'parent_id', 'created_utc', 'rater_id',\n",
        "    'example_very_unclear'\n",
        "] + emotion_labels + ['neutral']\n",
        "\n",
        "# Assign to the DataFrame\n",
        "df_all.columns = column_names\n",
        "\n",
        "# Preview the updated DataFrame\n",
        "print(df_all.head())\n"
      ],
      "metadata": {
        "colab": {
          "base_uri": "https://localhost:8080/"
        },
        "id": "YG-V-y7gcWDC",
        "outputId": "3f9f4826-a32b-47d3-a3db-262c40a01301"
      },
      "execution_count": null,
      "outputs": [
        {
          "output_type": "stream",
          "name": "stdout",
          "text": [
            "                                                text       id         author  \\\n",
            "0                                               text       id         author   \n",
            "1                                    That game hurt.  eew5j0j          Brdd9   \n",
            "2   >sexuality shouldn’t be a grouping category I...  eemcysk    TheGreen888   \n",
            "3     You do right, if you don't care then fuck 'em!  ed2mah1       Labalool   \n",
            "4                                 Man I love reddit.  eeibobj  MrsRobertshaw   \n",
            "\n",
            "          subreddit    link_id   parent_id   created_utc  rater_id  \\\n",
            "0         subreddit    link_id   parent_id   created_utc  rater_id   \n",
            "1               nrl  t3_ajis4z  t1_eew18eq  1548381039.0         1   \n",
            "2  unpopularopinion  t3_ai4q37   t3_ai4q37  1548084169.0        37   \n",
            "3       confessions  t3_abru74  t1_ed2m7g7  1546427744.0        37   \n",
            "4          facepalm  t3_ahulml   t3_ahulml  1547965054.0        18   \n",
            "\n",
            "   example_very_unclear  admiration  ...  love  nervousness  optimism  pride  \\\n",
            "0  example_very_unclear  admiration  ...  love  nervousness  optimism  pride   \n",
            "1                 False           0  ...     0            0         0      0   \n",
            "2                  True           0  ...     0            0         0      0   \n",
            "3                 False           0  ...     0            0         0      0   \n",
            "4                 False           0  ...     1            0         0      0   \n",
            "\n",
            "   realization  relief  remorse  sadness  surprise  neutral  \n",
            "0  realization  relief  remorse  sadness  surprise  neutral  \n",
            "1            0       0        0        1         0        0  \n",
            "2            0       0        0        0         0        0  \n",
            "3            0       0        0        0         0        1  \n",
            "4            0       0        0        0         0        0  \n",
            "\n",
            "[5 rows x 37 columns]\n"
          ]
        }
      ]
    },
    {
      "cell_type": "code",
      "source": [
        "df_all.to_csv('cleaned_data.csv', index=False)\n"
      ],
      "metadata": {
        "id": "LsVcXuE1c9re"
      },
      "execution_count": null,
      "outputs": []
    },
    {
      "cell_type": "code",
      "source": [
        "import pandas as pd\n",
        "from sklearn.model_selection import train_test_split\n",
        "\n",
        "# Assume df_all is your cleaned DataFrame\n",
        "\n",
        "# Text inputs\n",
        "X = df_all['text'].values\n",
        "\n",
        "# Emotion labels as multilabel binary matrix\n",
        "emotion_columns = [\n",
        "    'admiration', 'amusement', 'anger', 'annoyance', 'approval', 'caring', 'confusion', 'curiosity',\n",
        "    'desire', 'disappointment', 'disapproval', 'disgust', 'embarrassment', 'excitement', 'fear',\n",
        "    'gratitude', 'grief', 'joy', 'love', 'nervousness', 'optimism', 'pride', 'realization',\n",
        "    'relief', 'remorse', 'sadness', 'surprise', 'neutral'\n",
        "]\n",
        "y = df_all[emotion_columns].values\n",
        "\n",
        "# Train-test split\n",
        "X_train, X_test, y_train, y_test = train_test_split(X, y, test_size=0.2, random_state=42)\n"
      ],
      "metadata": {
        "id": "aRuGg6FcqsNi"
      },
      "execution_count": null,
      "outputs": []
    },
    {
      "cell_type": "code",
      "source": [
        "pip install transformers datasets\n"
      ],
      "metadata": {
        "id": "YYWCiZlAqw6n",
        "colab": {
          "base_uri": "https://localhost:8080/"
        },
        "outputId": "7695559e-2818-4d0b-f2d9-cd387d9d1358"
      },
      "execution_count": null,
      "outputs": [
        {
          "output_type": "stream",
          "name": "stdout",
          "text": [
            "Requirement already satisfied: transformers in /usr/local/lib/python3.11/dist-packages (4.51.3)\n",
            "Requirement already satisfied: datasets in /usr/local/lib/python3.11/dist-packages (2.14.4)\n",
            "Requirement already satisfied: filelock in /usr/local/lib/python3.11/dist-packages (from transformers) (3.18.0)\n",
            "Requirement already satisfied: huggingface-hub<1.0,>=0.30.0 in /usr/local/lib/python3.11/dist-packages (from transformers) (0.31.2)\n",
            "Requirement already satisfied: numpy>=1.17 in /usr/local/lib/python3.11/dist-packages (from transformers) (2.0.2)\n",
            "Requirement already satisfied: packaging>=20.0 in /usr/local/lib/python3.11/dist-packages (from transformers) (24.2)\n",
            "Requirement already satisfied: pyyaml>=5.1 in /usr/local/lib/python3.11/dist-packages (from transformers) (6.0.2)\n",
            "Requirement already satisfied: regex!=2019.12.17 in /usr/local/lib/python3.11/dist-packages (from transformers) (2024.11.6)\n",
            "Requirement already satisfied: requests in /usr/local/lib/python3.11/dist-packages (from transformers) (2.32.3)\n",
            "Requirement already satisfied: tokenizers<0.22,>=0.21 in /usr/local/lib/python3.11/dist-packages (from transformers) (0.21.1)\n",
            "Requirement already satisfied: safetensors>=0.4.3 in /usr/local/lib/python3.11/dist-packages (from transformers) (0.5.3)\n",
            "Requirement already satisfied: tqdm>=4.27 in /usr/local/lib/python3.11/dist-packages (from transformers) (4.67.1)\n",
            "Requirement already satisfied: pyarrow>=8.0.0 in /usr/local/lib/python3.11/dist-packages (from datasets) (18.1.0)\n",
            "Requirement already satisfied: dill<0.3.8,>=0.3.0 in /usr/local/lib/python3.11/dist-packages (from datasets) (0.3.7)\n",
            "Requirement already satisfied: pandas in /usr/local/lib/python3.11/dist-packages (from datasets) (2.2.2)\n",
            "Requirement already satisfied: xxhash in /usr/local/lib/python3.11/dist-packages (from datasets) (3.5.0)\n",
            "Requirement already satisfied: multiprocess in /usr/local/lib/python3.11/dist-packages (from datasets) (0.70.15)\n",
            "Requirement already satisfied: fsspec>=2021.11.1 in /usr/local/lib/python3.11/dist-packages (from fsspec[http]>=2021.11.1->datasets) (2025.3.2)\n",
            "Requirement already satisfied: aiohttp in /usr/local/lib/python3.11/dist-packages (from datasets) (3.11.15)\n",
            "Requirement already satisfied: aiohappyeyeballs>=2.3.0 in /usr/local/lib/python3.11/dist-packages (from aiohttp->datasets) (2.6.1)\n",
            "Requirement already satisfied: aiosignal>=1.1.2 in /usr/local/lib/python3.11/dist-packages (from aiohttp->datasets) (1.3.2)\n",
            "Requirement already satisfied: attrs>=17.3.0 in /usr/local/lib/python3.11/dist-packages (from aiohttp->datasets) (25.3.0)\n",
            "Requirement already satisfied: frozenlist>=1.1.1 in /usr/local/lib/python3.11/dist-packages (from aiohttp->datasets) (1.6.0)\n",
            "Requirement already satisfied: multidict<7.0,>=4.5 in /usr/local/lib/python3.11/dist-packages (from aiohttp->datasets) (6.4.3)\n",
            "Requirement already satisfied: propcache>=0.2.0 in /usr/local/lib/python3.11/dist-packages (from aiohttp->datasets) (0.3.1)\n",
            "Requirement already satisfied: yarl<2.0,>=1.17.0 in /usr/local/lib/python3.11/dist-packages (from aiohttp->datasets) (1.20.0)\n",
            "Requirement already satisfied: typing-extensions>=3.7.4.3 in /usr/local/lib/python3.11/dist-packages (from huggingface-hub<1.0,>=0.30.0->transformers) (4.13.2)\n",
            "Requirement already satisfied: charset-normalizer<4,>=2 in /usr/local/lib/python3.11/dist-packages (from requests->transformers) (3.4.2)\n",
            "Requirement already satisfied: idna<4,>=2.5 in /usr/local/lib/python3.11/dist-packages (from requests->transformers) (3.10)\n",
            "Requirement already satisfied: urllib3<3,>=1.21.1 in /usr/local/lib/python3.11/dist-packages (from requests->transformers) (2.4.0)\n",
            "Requirement already satisfied: certifi>=2017.4.17 in /usr/local/lib/python3.11/dist-packages (from requests->transformers) (2025.4.26)\n",
            "Requirement already satisfied: python-dateutil>=2.8.2 in /usr/local/lib/python3.11/dist-packages (from pandas->datasets) (2.9.0.post0)\n",
            "Requirement already satisfied: pytz>=2020.1 in /usr/local/lib/python3.11/dist-packages (from pandas->datasets) (2025.2)\n",
            "Requirement already satisfied: tzdata>=2022.7 in /usr/local/lib/python3.11/dist-packages (from pandas->datasets) (2025.2)\n",
            "Requirement already satisfied: six>=1.5 in /usr/local/lib/python3.11/dist-packages (from python-dateutil>=2.8.2->pandas->datasets) (1.17.0)\n"
          ]
        }
      ]
    },
    {
      "cell_type": "code",
      "source": [
        "from transformers import BertTokenizer\n",
        "\n",
        "tokenizer = BertTokenizer.from_pretrained('bert-base-uncased')\n",
        "\n",
        "# Tokenize texts with truncation and padding\n",
        "train_encodings = tokenizer(list(X_train), truncation=True, padding=True, max_length=128)\n",
        "test_encodings = tokenizer(list(X_test), truncation=True, padding=True, max_length=128)\n"
      ],
      "metadata": {
        "colab": {
          "base_uri": "https://localhost:8080/",
          "height": 269,
          "referenced_widgets": [
            "280b913237fc409abae8f9649b5ee749",
            "271c61364539495f983b84b77e1965e8",
            "d0ec37abf3c9435488d38adabf9e4fb3",
            "fd1bf7022d974ecca7ab48382ea56c33",
            "350b0165c6484803a13e59ad7db13dd7",
            "f612d98231fd4e09aaa276d46d504fa2",
            "1222ea345e4943d1b06586fd5ee14c04",
            "c093cb5d200c43b281faf2babe9abe88",
            "489a99a7298a47448dc0d9016ec9e1dd",
            "2c7eec3af3de4d8191577ab0a15b9351",
            "90764c77987e460db58e0a660d2bdcc7",
            "2bdc13a54045460b9b836e5182150d27",
            "b42aad1786b640ff9df0a68898f3357a",
            "6ba6459086c04335bac9eb203c872a07",
            "2ad474e9f1cf44c8806eda05bc79dfd7",
            "70688fda467449ff8097d2b0e5ea9fea",
            "1ac898ae0e7849528fcd305e36b20602",
            "cb6daa55be714e7783e1e6e75714108c",
            "e56784d962934ae991b6b19a9acd4724",
            "3ca552916e2b42178e0da97efa32d86b",
            "b06eebe7c31d42ae9c2ff77f6840822d",
            "1a41de167ecb4b87809ef34f76a9fe72",
            "8950e36faa9c4c9990eef87d006303aa",
            "7d4f1178e76f4f48acd7fd35526af8a9",
            "1834e03a41954350b8d1a2a6c851b60f",
            "2661357da4ee4d85b215f069accf3672",
            "fab6ea6df881496a804e24d2ddd6230e",
            "b6793c49ffba4deeb0c0e109e23ab082",
            "bde4c650524a4bb686287ee6aaafbc89",
            "c3ca58b855e64f7c99616315f4cb798a",
            "f48d405e86c64f9ab189504a33a042e1",
            "6b6e3098ab04413bbbeccd587db6cea4",
            "af8df8cc52244043abc1ba138a7e6f8e",
            "e36bdce255974286b8ec90dc4f15c7ce",
            "fd7effe1785c40df84fb8f3cb0fd1102",
            "319eebb704a745f088516b318b6a08b1",
            "5c9ddc2cc4bf48368f84307370f437b5",
            "a090348ab68146eca354e11b2cfc3413",
            "cdfc0992123549748baa7b2724c8f92d",
            "2c3d8cb316e24442970cb9d0c93eb595",
            "d7c602be7cae4b8ba05d4ac2a30d0ef7",
            "342d7db21dc446beb250cd59a36a4a71",
            "bfdb66fe0128451fb352da391f51fcef",
            "511366dba3e441c1b69e7f2b05e51814"
          ]
        },
        "id": "XF43iSK5q_7k",
        "outputId": "3631d23a-e6e5-404c-b4da-8436fa3388dc"
      },
      "execution_count": null,
      "outputs": [
        {
          "output_type": "stream",
          "name": "stderr",
          "text": [
            "/usr/local/lib/python3.11/dist-packages/huggingface_hub/utils/_auth.py:94: UserWarning: \n",
            "The secret `HF_TOKEN` does not exist in your Colab secrets.\n",
            "To authenticate with the Hugging Face Hub, create a token in your settings tab (https://huggingface.co/settings/tokens), set it as secret in your Google Colab and restart your session.\n",
            "You will be able to reuse this secret in all of your notebooks.\n",
            "Please note that authentication is recommended but still optional to access public models or datasets.\n",
            "  warnings.warn(\n"
          ]
        },
        {
          "output_type": "display_data",
          "data": {
            "text/plain": [
              "tokenizer_config.json:   0%|          | 0.00/48.0 [00:00<?, ?B/s]"
            ],
            "application/vnd.jupyter.widget-view+json": {
              "version_major": 2,
              "version_minor": 0,
              "model_id": "280b913237fc409abae8f9649b5ee749"
            }
          },
          "metadata": {}
        },
        {
          "output_type": "display_data",
          "data": {
            "text/plain": [
              "vocab.txt:   0%|          | 0.00/232k [00:00<?, ?B/s]"
            ],
            "application/vnd.jupyter.widget-view+json": {
              "version_major": 2,
              "version_minor": 0,
              "model_id": "2bdc13a54045460b9b836e5182150d27"
            }
          },
          "metadata": {}
        },
        {
          "output_type": "display_data",
          "data": {
            "text/plain": [
              "tokenizer.json:   0%|          | 0.00/466k [00:00<?, ?B/s]"
            ],
            "application/vnd.jupyter.widget-view+json": {
              "version_major": 2,
              "version_minor": 0,
              "model_id": "8950e36faa9c4c9990eef87d006303aa"
            }
          },
          "metadata": {}
        },
        {
          "output_type": "display_data",
          "data": {
            "text/plain": [
              "config.json:   0%|          | 0.00/570 [00:00<?, ?B/s]"
            ],
            "application/vnd.jupyter.widget-view+json": {
              "version_major": 2,
              "version_minor": 0,
              "model_id": "e36bdce255974286b8ec90dc4f15c7ce"
            }
          },
          "metadata": {}
        }
      ]
    },
    {
      "cell_type": "code",
      "source": [
        "import torch\n",
        "\n",
        "class EmotionDataset(torch.utils.data.Dataset):\n",
        "    def __init__(self, encodings, labels):\n",
        "        self.encodings = encodings\n",
        "        self.labels = labels\n",
        "\n",
        "    def __getitem__(self, idx):\n",
        "        item = {key: torch.tensor(val[idx]) for key, val in self.encodings.items()}\n",
        "        item['labels'] = torch.tensor(self.labels[idx]).float()  # float for BCEWithLogitsLoss\n",
        "        return item\n",
        "\n",
        "    def __len__(self):\n",
        "        return len(self.labels)\n",
        "\n",
        "train_dataset = EmotionDataset(train_encodings, y_train)\n",
        "test_dataset = EmotionDataset(test_encodings, y_test)\n"
      ],
      "metadata": {
        "id": "iuiL3GhHrPOF"
      },
      "execution_count": null,
      "outputs": []
    },
    {
      "cell_type": "code",
      "source": [
        "from transformers import BertForSequenceClassification\n",
        "\n",
        "model = BertForSequenceClassification.from_pretrained('bert-base-uncased', num_labels=len(emotion_columns), problem_type=\"multi_label_classification\")\n"
      ],
      "metadata": {
        "colab": {
          "base_uri": "https://localhost:8080/",
          "height": 138,
          "referenced_widgets": [
            "29408a14ab314ca5ad1342f546aeb2f5",
            "38ed2e8da6ab439f94949aae9a1875c3",
            "e05e129d07e546bea2bcdf80be7cdf20",
            "a4a8f55bd1864b9d91e1310ce8f2e784",
            "87ab928fd5f3422d8068c54ba0a9706f",
            "aca12ee0143d4284baa691f751bff249",
            "e0b42f8defe149b08f86f15b7b9b6453",
            "1c3efa4c3efa4e0aaeeb3c8934ccee1c",
            "a5f4ceac38334ba0aa126aac5809dfff",
            "73a168d78958441da0acc17fb29e3d75",
            "55aeccfe3bd243baa5a8e3881cbf56fb"
          ]
        },
        "id": "-htIak8Treoc",
        "outputId": "35f86659-f730-466e-8b6a-dda8fbae0e2c"
      },
      "execution_count": null,
      "outputs": [
        {
          "output_type": "stream",
          "name": "stderr",
          "text": [
            "Xet Storage is enabled for this repo, but the 'hf_xet' package is not installed. Falling back to regular HTTP download. For better performance, install the package with: `pip install huggingface_hub[hf_xet]` or `pip install hf_xet`\n",
            "WARNING:huggingface_hub.file_download:Xet Storage is enabled for this repo, but the 'hf_xet' package is not installed. Falling back to regular HTTP download. For better performance, install the package with: `pip install huggingface_hub[hf_xet]` or `pip install hf_xet`\n"
          ]
        },
        {
          "output_type": "display_data",
          "data": {
            "text/plain": [
              "model.safetensors:   0%|          | 0.00/440M [00:00<?, ?B/s]"
            ],
            "application/vnd.jupyter.widget-view+json": {
              "version_major": 2,
              "version_minor": 0,
              "model_id": "29408a14ab314ca5ad1342f546aeb2f5"
            }
          },
          "metadata": {}
        },
        {
          "output_type": "stream",
          "name": "stderr",
          "text": [
            "Some weights of BertForSequenceClassification were not initialized from the model checkpoint at bert-base-uncased and are newly initialized: ['classifier.bias', 'classifier.weight']\n",
            "You should probably TRAIN this model on a down-stream task to be able to use it for predictions and inference.\n"
          ]
        }
      ]
    },
    {
      "cell_type": "code",
      "source": [
        "!pip install tqdm\n"
      ],
      "metadata": {
        "colab": {
          "base_uri": "https://localhost:8080/"
        },
        "id": "vZTdBMxKrnf_",
        "outputId": "1caf75b8-b670-4141-e5e0-4d59a059c5a1"
      },
      "execution_count": null,
      "outputs": [
        {
          "output_type": "stream",
          "name": "stdout",
          "text": [
            "Requirement already satisfied: tqdm in /usr/local/lib/python3.11/dist-packages (4.67.1)\n"
          ]
        }
      ]
    },
    {
      "cell_type": "code",
      "source": [
        "print(df_all.columns)\n"
      ],
      "metadata": {
        "colab": {
          "base_uri": "https://localhost:8080/"
        },
        "id": "Vb3NNsaofdkl",
        "outputId": "b0a676ab-efd2-4cce-e764-b2919a5920a1"
      },
      "execution_count": null,
      "outputs": [
        {
          "output_type": "stream",
          "name": "stdout",
          "text": [
            "Index(['text', 'id', 'author', 'subreddit', 'link_id', 'parent_id',\n",
            "       'created_utc', 'rater_id', 'example_very_unclear', 'admiration',\n",
            "       'amusement', 'anger', 'annoyance', 'approval', 'caring', 'confusion',\n",
            "       'curiosity', 'desire', 'disappointment', 'disapproval', 'disgust',\n",
            "       'embarrassment', 'excitement', 'fear', 'gratitude', 'grief', 'joy',\n",
            "       'love', 'nervousness', 'optimism', 'pride', 'realization', 'relief',\n",
            "       'remorse', 'sadness', 'surprise', 'neutral'],\n",
            "      dtype='object')\n"
          ]
        }
      ]
    },
    {
      "cell_type": "code",
      "source": [
        "print(df_all[emotion_columns].dtypes)\n"
      ],
      "metadata": {
        "colab": {
          "base_uri": "https://localhost:8080/"
        },
        "id": "jzq9OA6yfs8G",
        "outputId": "b10b8673-5ba3-4a49-9d51-8a603700c5cb"
      },
      "execution_count": null,
      "outputs": [
        {
          "output_type": "stream",
          "name": "stdout",
          "text": [
            "admiration        object\n",
            "amusement         object\n",
            "anger             object\n",
            "annoyance         object\n",
            "approval          object\n",
            "caring            object\n",
            "confusion         object\n",
            "curiosity         object\n",
            "desire            object\n",
            "disappointment    object\n",
            "disapproval       object\n",
            "disgust           object\n",
            "embarrassment     object\n",
            "excitement        object\n",
            "fear              object\n",
            "gratitude         object\n",
            "grief             object\n",
            "joy               object\n",
            "love              object\n",
            "nervousness       object\n",
            "optimism          object\n",
            "pride             object\n",
            "realization       object\n",
            "relief            object\n",
            "remorse           object\n",
            "sadness           object\n",
            "surprise          object\n",
            "neutral           object\n",
            "dtype: object\n"
          ]
        }
      ]
    },
    {
      "cell_type": "code",
      "source": [
        "# This will find cells that are not digits or zero/one\n",
        "for col in emotion_columns:\n",
        "    non_numeric = df_all[~df_all[col].astype(str).str.match(r'^[01]$')][col]\n",
        "    if not non_numeric.empty:\n",
        "        print(f\"Non-numeric values in '{col}':\")\n",
        "        print(non_numeric)\n"
      ],
      "metadata": {
        "colab": {
          "base_uri": "https://localhost:8080/"
        },
        "id": "Ta-Qew0aftU_",
        "outputId": "c46f6321-27c8-461f-9bc6-4f7888ff3744"
      },
      "execution_count": null,
      "outputs": [
        {
          "output_type": "stream",
          "name": "stdout",
          "text": [
            "Non-numeric values in 'admiration':\n",
            "0         admiration\n",
            "70001     admiration\n",
            "140002    admiration\n",
            "Name: admiration, dtype: object\n",
            "Non-numeric values in 'amusement':\n",
            "0         amusement\n",
            "70001     amusement\n",
            "140002    amusement\n",
            "Name: amusement, dtype: object\n",
            "Non-numeric values in 'anger':\n",
            "0         anger\n",
            "70001     anger\n",
            "140002    anger\n",
            "Name: anger, dtype: object\n",
            "Non-numeric values in 'annoyance':\n",
            "0         annoyance\n",
            "70001     annoyance\n",
            "140002    annoyance\n",
            "Name: annoyance, dtype: object\n",
            "Non-numeric values in 'approval':\n",
            "0         approval\n",
            "70001     approval\n",
            "140002    approval\n",
            "Name: approval, dtype: object\n",
            "Non-numeric values in 'caring':\n",
            "0         caring\n",
            "70001     caring\n",
            "140002    caring\n",
            "Name: caring, dtype: object\n",
            "Non-numeric values in 'confusion':\n",
            "0         confusion\n",
            "70001     confusion\n",
            "140002    confusion\n",
            "Name: confusion, dtype: object\n",
            "Non-numeric values in 'curiosity':\n",
            "0         curiosity\n",
            "70001     curiosity\n",
            "140002    curiosity\n",
            "Name: curiosity, dtype: object\n",
            "Non-numeric values in 'desire':\n",
            "0         desire\n",
            "70001     desire\n",
            "140002    desire\n",
            "Name: desire, dtype: object\n",
            "Non-numeric values in 'disappointment':\n",
            "0         disappointment\n",
            "70001     disappointment\n",
            "140002    disappointment\n",
            "Name: disappointment, dtype: object\n",
            "Non-numeric values in 'disapproval':\n",
            "0         disapproval\n",
            "70001     disapproval\n",
            "140002    disapproval\n",
            "Name: disapproval, dtype: object\n",
            "Non-numeric values in 'disgust':\n",
            "0         disgust\n",
            "70001     disgust\n",
            "140002    disgust\n",
            "Name: disgust, dtype: object\n",
            "Non-numeric values in 'embarrassment':\n",
            "0         embarrassment\n",
            "70001     embarrassment\n",
            "140002    embarrassment\n",
            "Name: embarrassment, dtype: object\n",
            "Non-numeric values in 'excitement':\n",
            "0         excitement\n",
            "70001     excitement\n",
            "140002    excitement\n",
            "Name: excitement, dtype: object\n",
            "Non-numeric values in 'fear':\n",
            "0         fear\n",
            "70001     fear\n",
            "140002    fear\n",
            "Name: fear, dtype: object\n",
            "Non-numeric values in 'gratitude':\n",
            "0         gratitude\n",
            "70001     gratitude\n",
            "140002    gratitude\n",
            "Name: gratitude, dtype: object\n",
            "Non-numeric values in 'grief':\n",
            "0         grief\n",
            "70001     grief\n",
            "140002    grief\n",
            "Name: grief, dtype: object\n",
            "Non-numeric values in 'joy':\n",
            "0         joy\n",
            "70001     joy\n",
            "140002    joy\n",
            "Name: joy, dtype: object\n",
            "Non-numeric values in 'love':\n",
            "0         love\n",
            "70001     love\n",
            "140002    love\n",
            "Name: love, dtype: object\n",
            "Non-numeric values in 'nervousness':\n",
            "0         nervousness\n",
            "70001     nervousness\n",
            "140002    nervousness\n",
            "Name: nervousness, dtype: object\n",
            "Non-numeric values in 'optimism':\n",
            "0         optimism\n",
            "70001     optimism\n",
            "140002    optimism\n",
            "Name: optimism, dtype: object\n",
            "Non-numeric values in 'pride':\n",
            "0         pride\n",
            "70001     pride\n",
            "140002    pride\n",
            "Name: pride, dtype: object\n",
            "Non-numeric values in 'realization':\n",
            "0         realization\n",
            "70001     realization\n",
            "140002    realization\n",
            "Name: realization, dtype: object\n",
            "Non-numeric values in 'relief':\n",
            "0         relief\n",
            "70001     relief\n",
            "140002    relief\n",
            "Name: relief, dtype: object\n",
            "Non-numeric values in 'remorse':\n",
            "0         remorse\n",
            "70001     remorse\n",
            "140002    remorse\n",
            "Name: remorse, dtype: object\n",
            "Non-numeric values in 'sadness':\n",
            "0         sadness\n",
            "70001     sadness\n",
            "140002    sadness\n",
            "Name: sadness, dtype: object\n",
            "Non-numeric values in 'surprise':\n",
            "0         surprise\n",
            "70001     surprise\n",
            "140002    surprise\n",
            "Name: surprise, dtype: object\n",
            "Non-numeric values in 'neutral':\n",
            "0         neutral\n",
            "70001     neutral\n",
            "140002    neutral\n",
            "Name: neutral, dtype: object\n"
          ]
        }
      ]
    },
    {
      "cell_type": "code",
      "source": [
        "rows_to_drop = [69998, 139999]\n",
        "df_all = df_all.drop(rows_to_drop).reset_index(drop=True)\n"
      ],
      "metadata": {
        "id": "YVh5C5lyfj6h"
      },
      "execution_count": null,
      "outputs": []
    },
    {
      "cell_type": "code",
      "source": [
        "for col in emotion_columns:\n",
        "    df_all[col] = pd.to_numeric(df_all[col], errors='coerce').fillna(0).astype(int)\n"
      ],
      "metadata": {
        "id": "wJzSJjNzfUt7"
      },
      "execution_count": null,
      "outputs": []
    },
    {
      "cell_type": "code",
      "source": [
        "df_all['label'] = df_all[emotion_columns].idxmax(axis=1)\n",
        "label2id = {emotion: i for i, emotion in enumerate(emotion_columns)}\n",
        "df_all['label'] = df_all['label'].map(label2id)\n"
      ],
      "metadata": {
        "id": "V0HWgISbhgG6"
      },
      "execution_count": null,
      "outputs": []
    },
    {
      "cell_type": "code",
      "source": [
        "import pandas as pd\n",
        "import torch\n",
        "from torch.utils.data import Dataset, DataLoader\n",
        "from transformers import AutoTokenizer, AutoModelForSequenceClassification\n",
        "from torch.optim import AdamW\n",
        "\n",
        "from tqdm import tqdm\n",
        "\n",
        "# Assume your dataframe is df_all and emotion_columns is the list of emotions\n",
        "\n",
        "# --- 1. Clean dataframe ---\n",
        "rows_to_drop = [69998, 139999]\n",
        "df_all = df_all.drop(rows_to_drop).reset_index(drop=True)\n",
        "\n",
        "# Convert emotions columns to int\n",
        "for col in emotion_columns:\n",
        "    df_all[col] = pd.to_numeric(df_all[col], errors='coerce').fillna(0).astype(int)\n",
        "\n",
        "# Create label column (emotion with max value)\n",
        "df_all['label'] = df_all[emotion_columns].idxmax(axis=1)\n",
        "label2id = {emotion: i for i, emotion in enumerate(emotion_columns)}\n",
        "df_all['label'] = df_all['label'].map(label2id)"
      ],
      "metadata": {
        "id": "0y7InnGvrtNe"
      },
      "execution_count": null,
      "outputs": []
    },
    {
      "cell_type": "code",
      "source": [
        "class EmotionDataset(Dataset):\n",
        "    def __init__(self, texts, labels, tokenizer, max_len=128):\n",
        "        self.texts = texts\n",
        "        self.labels = labels\n",
        "        self.tokenizer = tokenizer\n",
        "        self.max_len = max_len\n",
        "\n",
        "    def __len__(self):\n",
        "        return len(self.texts)\n",
        "\n",
        "    def __getitem__(self, idx):\n",
        "        text = str(self.texts[idx])\n",
        "        label = self.labels[idx]\n",
        "\n",
        "        encoding = self.tokenizer(\n",
        "            text,\n",
        "            max_length=self.max_len,\n",
        "            padding='max_length',\n",
        "            truncation=True,\n",
        "            return_tensors='pt'\n",
        "        )\n",
        "\n",
        "        item = {key: val.squeeze(0) for key, val in encoding.items()}\n",
        "        item['labels'] = torch.tensor(label, dtype=torch.long)\n",
        "        return item"
      ],
      "metadata": {
        "id": "HdyGzII5r-Qw"
      },
      "execution_count": null,
      "outputs": []
    },
    {
      "cell_type": "code",
      "source": [
        "# --- 3. Prepare tokenizer, dataset, dataloader ---\n",
        "model_name = 'bert-base-uncased'  # or any HuggingFace transformer model\n",
        "tokenizer = AutoTokenizer.from_pretrained(model_name)\n",
        "\n",
        "texts = df_all['text'].tolist()\n",
        "labels = df_all['label'].tolist()\n",
        "\n",
        "dataset = EmotionDataset(texts, labels, tokenizer)\n",
        "train_loader = DataLoader(dataset, batch_size=16, shuffle=True)"
      ],
      "metadata": {
        "id": "oDdiMlYB6YxG"
      },
      "execution_count": null,
      "outputs": []
    },
    {
      "cell_type": "code",
      "source": [
        "# --- 4. Model, optimizer, loss ---\n",
        "device = torch.device('cuda' if torch.cuda.is_available() else 'cpu')\n",
        "model = AutoModelForSequenceClassification.from_pretrained(\n",
        "    model_name,\n",
        "    num_labels=len(emotion_columns)\n",
        ")\n",
        "model.to(device)\n",
        "\n",
        "optimizer = AdamW(model.parameters(), lr=2e-5)\n",
        "criterion = torch.nn.CrossEntropyLoss()"
      ],
      "metadata": {
        "id": "Brxiakjn-bck",
        "colab": {
          "base_uri": "https://localhost:8080/"
        },
        "outputId": "b184a72d-17ff-4b85-fc9b-41f1ea0d6b6f"
      },
      "execution_count": null,
      "outputs": [
        {
          "output_type": "stream",
          "name": "stderr",
          "text": [
            "Some weights of BertForSequenceClassification were not initialized from the model checkpoint at bert-base-uncased and are newly initialized: ['classifier.bias', 'classifier.weight']\n",
            "You should probably TRAIN this model on a down-stream task to be able to use it for predictions and inference.\n"
          ]
        }
      ]
    },
    {
      "cell_type": "code",
      "source": [
        "epochs = 1\n",
        "\n",
        "model.train()\n",
        "for epoch in range(epochs):\n",
        "    total_loss = 0\n",
        "    loop = tqdm(train_loader, leave=True)\n",
        "    for batch in loop:\n",
        "        optimizer.zero_grad()\n",
        "\n",
        "        input_ids = batch['input_ids'].to(device)\n",
        "        attention_mask = batch['attention_mask'].to(device)\n",
        "        labels = batch['labels'].to(device)\n",
        "\n",
        "        outputs = model(input_ids=input_ids, attention_mask=attention_mask, labels=labels)\n",
        "        loss = outputs.loss\n",
        "\n",
        "        loss.backward()\n",
        "        optimizer.step()\n",
        "\n",
        "        total_loss += loss.item()\n",
        "\n",
        "        loop.set_description(f'Epoch {epoch + 1}')\n",
        "        loop.set_postfix(loss=loss.item())\n",
        "\n",
        "    avg_loss = total_loss / len(train_loader)\n",
        "    print(f\"Epoch {epoch + 1} completed. Average Loss: {avg_loss:.4f}\")"
      ],
      "metadata": {
        "colab": {
          "base_uri": "https://localhost:8080/"
        },
        "id": "kdKTk6BVBBDW",
        "outputId": "e494d5ff-36a4-494d-d20a-f1c375b427eb"
      },
      "execution_count": null,
      "outputs": [
        {
          "output_type": "stream",
          "name": "stderr",
          "text": [
            "Epoch 1: 100%|██████████| 13202/13202 [1:16:50<00:00,  2.86it/s, loss=0.827]"
          ]
        },
        {
          "output_type": "stream",
          "name": "stdout",
          "text": [
            "Epoch 1 completed. Average Loss: 1.9930\n"
          ]
        },
        {
          "output_type": "stream",
          "name": "stderr",
          "text": [
            "\n"
          ]
        }
      ]
    },
    {
      "cell_type": "code",
      "source": [
        "print(df.columns.tolist())\n"
      ],
      "metadata": {
        "id": "aGgLCuiU9y-X",
        "colab": {
          "base_uri": "https://localhost:8080/"
        },
        "outputId": "769469e0-4269-44bb-f24f-84ffce5a8927"
      },
      "execution_count": null,
      "outputs": [
        {
          "output_type": "stream",
          "name": "stdout",
          "text": [
            "['text', 'label_vector']\n"
          ]
        }
      ]
    },
    {
      "cell_type": "code",
      "source": [
        "print(df['label_vector'].iloc[0])\n",
        "print(type(df['label_vector'].iloc[0]))\n"
      ],
      "metadata": {
        "colab": {
          "base_uri": "https://localhost:8080/"
        },
        "id": "ylZejI-FOD7-",
        "outputId": "ce69bd08-c875-4057-a613-141bec16b141"
      },
      "execution_count": null,
      "outputs": [
        {
          "output_type": "stream",
          "name": "stdout",
          "text": [
            "['id', 'author', 'subreddit', 'link_id', 'parent_id', 'created_utc', 'rater_id', 'example_very_unclear', 'admiration', 'amusement', 'anger', 'annoyance', 'approval', 'caring', 'confusion', 'curiosity', 'desire', 'disappointment', 'disapproval', 'disgust', 'embarrassment', 'excitement', 'fear', 'gratitude', 'grief', 'joy', 'love']\n",
            "<class 'list'>\n"
          ]
        }
      ]
    },
    {
      "cell_type": "code",
      "source": [
        "emotion_columns = [\n",
        "    'admiration', 'amusement', 'anger', 'annoyance', 'approval', 'caring',\n",
        "    'confusion', 'curiosity', 'desire', 'disappointment', 'disapproval',\n",
        "    'disgust', 'embarrassment', 'excitement', 'fear', 'gratitude', 'grief',\n",
        "    'joy', 'love'\n",
        "]\n"
      ],
      "metadata": {
        "id": "1muWPT_aOm3k"
      },
      "execution_count": null,
      "outputs": []
    },
    {
      "cell_type": "code",
      "source": [
        "print(df.columns.tolist())\n"
      ],
      "metadata": {
        "colab": {
          "base_uri": "https://localhost:8080/"
        },
        "id": "GfeiKWSAOyzL",
        "outputId": "8d5284e0-16f4-4f04-8245-8e75fe3d0b6f"
      },
      "execution_count": null,
      "outputs": [
        {
          "output_type": "stream",
          "name": "stdout",
          "text": [
            "['text', 'label_vector']\n"
          ]
        }
      ]
    },
    {
      "cell_type": "code",
      "source": [
        "print(df['label_vector'].head(5).tolist())\n"
      ],
      "metadata": {
        "colab": {
          "base_uri": "https://localhost:8080/"
        },
        "id": "r-sas2BHO0Yl",
        "outputId": "0f4b9c9f-d5c6-44cd-d244-815535fb19f6"
      },
      "execution_count": null,
      "outputs": [
        {
          "output_type": "stream",
          "name": "stdout",
          "text": [
            "[['id', 'author', 'subreddit', 'link_id', 'parent_id', 'created_utc', 'rater_id', 'example_very_unclear', 'admiration', 'amusement', 'anger', 'annoyance', 'approval', 'caring', 'confusion', 'curiosity', 'desire', 'disappointment', 'disapproval', 'disgust', 'embarrassment', 'excitement', 'fear', 'gratitude', 'grief', 'joy', 'love'], ['eew5j0j', 'Brdd9', 'nrl', 't3_ajis4z', 't1_eew18eq', '1548381039.0', '1', 'False', '0', '0', '0', '0', '0', '0', '0', '0', '0', '0', '0', '0', '0', '0', '0', '0', '0', '0', '0'], ['eemcysk', 'TheGreen888', 'unpopularopinion', 't3_ai4q37', 't3_ai4q37', '1548084169.0', '37', 'True', '0', '0', '0', '0', '0', '0', '0', '0', '0', '0', '0', '0', '0', '0', '0', '0', '0', '0', '0'], ['ed2mah1', 'Labalool', 'confessions', 't3_abru74', 't1_ed2m7g7', '1546427744.0', '37', 'False', '0', '0', '0', '0', '0', '0', '0', '0', '0', '0', '0', '0', '0', '0', '0', '0', '0', '0', '0'], ['eeibobj', 'MrsRobertshaw', 'facepalm', 't3_ahulml', 't3_ahulml', '1547965054.0', '18', 'False', '0', '0', '0', '0', '0', '0', '0', '0', '0', '0', '0', '0', '0', '0', '0', '0', '0', '0', '1']]\n"
          ]
        }
      ]
    },
    {
      "cell_type": "code",
      "source": [
        "import pandas as pd\n",
        "import numpy as np\n",
        "\n",
        "# Example raw data - replace this with your full dataset list of lists\n",
        "raw_data = [\n",
        "    ['id', 'author', 'subreddit', 'link_id', 'parent_id', 'created_utc', 'rater_id', 'example_very_unclear',\n",
        "     'admiration', 'amusement', 'anger', 'annoyance', 'approval', 'caring', 'confusion', 'curiosity', 'desire',\n",
        "     'disappointment', 'disapproval', 'disgust', 'embarrassment', 'excitement', 'fear', 'gratitude', 'grief',\n",
        "     'joy', 'love'],\n",
        "    ['eew5j0j', 'Brdd9', 'nrl', 't3_ajis4z', 'This is a sample text for emotion classification.', '1548381039.0', '1', 'False',\n",
        "     '0', '0', '0', '0', '0', '0', '0', '0', '0', '0', '0', '0', '0', '0', '0', '0', '0', '0', '0'],\n",
        "    ['eemcysk', 'TheGreen888', 'unpopularopinion', 't3_ai4q37', 'Another example sentence goes here.', '1548084169.0', '37', 'True',\n",
        "     '0', '1', '0', '0', '0', '0', '0', '0', '0', '0', '0', '0', '0', '0', '0', '0', '0', '0', '0'],\n",
        "    ['ed2mah1', 'Labalool', 'confessions', 't3_abru74', 'More data text for emotion detection.', '1546427744.0', '37', 'False',\n",
        "     '0', '0', '1', '0', '0', '0', '0', '0', '0', '0', '0', '0', '0', '0', '0', '0', '0', '0', '0'],\n",
        "    ['eeibobj', 'MrsRobertshaw', 'facepalm', 't3_ahulml', 'Last example text for this demonstration.', '1547965054.0', '18', 'False',\n",
        "     '0', '0', '0', '0', '0', '0', '0', '0', '0', '0', '0', '0', '0', '0', '0', '0', '1', '0', '0']\n",
        "]\n",
        "\n",
        "# Create DataFrame from raw data\n",
        "df = pd.DataFrame(raw_data[1:], columns=raw_data[0])\n",
        "\n",
        "# Replace 'parent_id' column with actual text if you have one, here I assume 'parent_id' has text\n",
        "df.rename(columns={'parent_id':'text'}, inplace=True)\n",
        "\n",
        "# Convert emotion columns to int (all columns from 'admiration' onwards)\n",
        "emotion_columns = df.columns[df.columns.get_loc('admiration'):]\n",
        "df[emotion_columns] = df[emotion_columns].astype(int)\n",
        "\n",
        "# Create multi-label vector for each row (list of ints)\n",
        "df['label_vector'] = df[emotion_columns].values.tolist()\n",
        "\n",
        "# Also create a dominant single-label for single-class tasks\n",
        "df['label'] = df[emotion_columns].idxmax(axis=1)\n",
        "\n",
        "print(df[['text', 'label_vector', 'label']])\n"
      ],
      "metadata": {
        "colab": {
          "base_uri": "https://localhost:8080/"
        },
        "id": "ryIaLXy-Pcim",
        "outputId": "6ded3828-764b-4238-ac9b-3443b5bc2aec"
      },
      "execution_count": null,
      "outputs": [
        {
          "output_type": "stream",
          "name": "stdout",
          "text": [
            "                                                text  \\\n",
            "0  This is a sample text for emotion classification.   \n",
            "1                Another example sentence goes here.   \n",
            "2              More data text for emotion detection.   \n",
            "3          Last example text for this demonstration.   \n",
            "\n",
            "                                        label_vector       label  \n",
            "0  [0, 0, 0, 0, 0, 0, 0, 0, 0, 0, 0, 0, 0, 0, 0, ...  admiration  \n",
            "1  [0, 1, 0, 0, 0, 0, 0, 0, 0, 0, 0, 0, 0, 0, 0, ...   amusement  \n",
            "2  [0, 0, 1, 0, 0, 0, 0, 0, 0, 0, 0, 0, 0, 0, 0, ...       anger  \n",
            "3  [0, 0, 0, 0, 0, 0, 0, 0, 0, 0, 0, 0, 0, 0, 0, ...       grief  \n"
          ]
        }
      ]
    },
    {
      "cell_type": "code",
      "source": [
        "from tqdm import tqdm\n",
        "from sklearn.metrics import accuracy_score, f1_score, precision_score, recall_score\n",
        "import numpy as np\n",
        "\n",
        "n_samples = len(df)\n",
        "y_true = np.array(df['label_vector'].tolist())\n",
        "y_true_single = df['label'].map({label: i for i, label in enumerate(emotion_columns)}).values\n",
        "\n",
        "np.random.seed(42)\n",
        "y_pred = (np.random.rand(*y_true.shape) > 0.5).astype(int)\n",
        "y_pred_single = np.random.choice(len(emotion_columns), size=n_samples)\n",
        "\n",
        "all_true_multi = []\n",
        "all_pred_multi = []\n",
        "\n",
        "print(\"Evaluating multi-label classification:\")\n",
        "for i in tqdm(range(n_samples), desc=\"Multi-label Eval\"):\n",
        "    all_true_multi.append(y_true[i])\n",
        "    all_pred_multi.append(y_pred[i])\n",
        "\n",
        "all_true_multi = np.array(all_true_multi)\n",
        "all_pred_multi = np.array(all_pred_multi)\n",
        "\n",
        "accuracy = accuracy_score(all_true_multi, all_pred_multi)\n",
        "f1_micro = f1_score(all_true_multi, all_pred_multi, average='micro', zero_division=0)\n",
        "f1_macro = f1_score(all_true_multi, all_pred_multi, average='macro', zero_division=0)\n",
        "precision = precision_score(all_true_multi, all_pred_multi, average='micro', zero_division=0)\n",
        "recall = recall_score(all_true_multi, all_pred_multi, average='micro', zero_division=0)\n",
        "\n",
        "print(f\"\\nMulti-label metrics:\")\n",
        "print(f\"Accuracy: {accuracy:.4f}\")\n",
        "print(f\"F1 Score (Micro): {f1_micro:.4f}\")\n",
        "print(f\"F1 Score (Macro): {f1_macro:.4f}\")\n",
        "print(f\"Precision (Micro): {precision:.4f}\")\n",
        "print(f\"Recall (Micro): {recall:.4f}\")\n",
        "\n",
        "all_true_single = []\n",
        "all_pred_single = []\n",
        "\n",
        "print(\"\\nEvaluating single-label classification:\")\n",
        "for i in tqdm(range(n_samples), desc=\"Single-label Eval\"):\n",
        "    all_true_single.append(y_true_single[i])\n",
        "    all_pred_single.append(y_pred_single[i])\n",
        "\n",
        "all_true_single = np.array(all_true_single)\n",
        "all_pred_single = np.array(all_pred_single)\n",
        "\n",
        "accuracy = accuracy_score(all_true_single, all_pred_single)\n",
        "f1_macro = f1_score(all_true_single, all_pred_single, average='macro', zero_division=0)\n",
        "precision_macro = precision_score(all_true_single, all_pred_single, average='macro', zero_division=0)\n",
        "recall_macro = recall_score(all_true_single, all_pred_single, average='macro', zero_division=0)\n",
        "\n",
        "print(f\"\\nSingle-label metrics:\")\n",
        "print(f\"Accuracy: {accuracy:.4f}\")\n",
        "print(f\"F1 Score (Macro): {f1_macro:.4f}\")\n",
        "print(f\"Precision (Macro): {precision_macro:.4f}\")\n",
        "print(f\"Recall (Macro): {recall_macro:.4f}\")\n"
      ],
      "metadata": {
        "colab": {
          "base_uri": "https://localhost:8080/"
        },
        "id": "K3-A8PUsP7Q_",
        "outputId": "e8d12931-0961-4590-c9ee-75ecf064f069"
      },
      "execution_count": null,
      "outputs": [
        {
          "output_type": "stream",
          "name": "stdout",
          "text": [
            "Evaluating multi-label classification:\n"
          ]
        },
        {
          "output_type": "stream",
          "name": "stderr",
          "text": [
            "Multi-label Eval: 100%|██████████| 4/4 [00:00<00:00, 19173.96it/s]\n"
          ]
        },
        {
          "output_type": "stream",
          "name": "stdout",
          "text": [
            "\n",
            "Multi-label metrics:\n",
            "Accuracy: 0.0000\n",
            "F1 Score (Micro): 0.1026\n",
            "F1 Score (Macro): 0.0614\n",
            "Precision (Micro): 0.0556\n",
            "Recall (Micro): 0.6667\n",
            "\n",
            "Evaluating single-label classification:\n"
          ]
        },
        {
          "output_type": "stream",
          "name": "stderr",
          "text": [
            "Single-label Eval: 100%|██████████| 4/4 [00:00<00:00, 20610.83it/s]"
          ]
        },
        {
          "output_type": "stream",
          "name": "stdout",
          "text": [
            "\n",
            "Single-label metrics:\n",
            "Accuracy: 0.2500\n",
            "F1 Score (Macro): 0.1429\n",
            "Precision (Macro): 0.1429\n",
            "Recall (Macro): 0.1429\n"
          ]
        },
        {
          "output_type": "stream",
          "name": "stderr",
          "text": [
            "\n"
          ]
        }
      ]
    },
    {
      "cell_type": "code",
      "source": [
        "import pandas as pd\n",
        "\n",
        "# Paths to your CSV files - update the paths if needed\n",
        "csv_files = [\n",
        "    '/content/goemotions_1.csv',\n",
        "    '/content/goemotions_2.csv',\n",
        "    '/content/goemotions_3.csv'\n",
        "]\n",
        "\n",
        "# Load each CSV into a DataFrame and store in a list\n",
        "dfs = [pd.read_csv(file) for file in csv_files]\n",
        "\n",
        "# Concatenate all DataFrames into one\n",
        "df = pd.concat(dfs, ignore_index=True)\n",
        "\n",
        "print(f\"Combined dataset shape: {df.shape}\")\n",
        "print(df.head())\n"
      ],
      "metadata": {
        "colab": {
          "base_uri": "https://localhost:8080/"
        },
        "id": "yXlT-DrbQcmU",
        "outputId": "0a080b90-c4a9-4f40-dd23-9ce1a07f2553"
      },
      "execution_count": null,
      "outputs": [
        {
          "output_type": "stream",
          "name": "stdout",
          "text": [
            "Combined dataset shape: (211225, 37)\n",
            "                                                text       id  \\\n",
            "0                                    That game hurt.  eew5j0j   \n",
            "1   >sexuality shouldn’t be a grouping category I...  eemcysk   \n",
            "2     You do right, if you don't care then fuck 'em!  ed2mah1   \n",
            "3                                 Man I love reddit.  eeibobj   \n",
            "4  [NAME] was nowhere near them, he was by the Fa...  eda6yn6   \n",
            "\n",
            "                author            subreddit    link_id   parent_id  \\\n",
            "0                Brdd9                  nrl  t3_ajis4z  t1_eew18eq   \n",
            "1          TheGreen888     unpopularopinion  t3_ai4q37   t3_ai4q37   \n",
            "2             Labalool          confessions  t3_abru74  t1_ed2m7g7   \n",
            "3        MrsRobertshaw             facepalm  t3_ahulml   t3_ahulml   \n",
            "4  American_Fascist713  starwarsspeculation  t3_ackt2f  t1_eda65q2   \n",
            "\n",
            "    created_utc  rater_id  example_very_unclear  admiration  ...  love  \\\n",
            "0  1.548381e+09         1                 False           0  ...     0   \n",
            "1  1.548084e+09        37                  True           0  ...     0   \n",
            "2  1.546428e+09        37                 False           0  ...     0   \n",
            "3  1.547965e+09        18                 False           0  ...     1   \n",
            "4  1.546669e+09         2                 False           0  ...     0   \n",
            "\n",
            "   nervousness  optimism  pride  realization  relief  remorse  sadness  \\\n",
            "0            0         0      0            0       0        0        1   \n",
            "1            0         0      0            0       0        0        0   \n",
            "2            0         0      0            0       0        0        0   \n",
            "3            0         0      0            0       0        0        0   \n",
            "4            0         0      0            0       0        0        0   \n",
            "\n",
            "   surprise  neutral  \n",
            "0         0        0  \n",
            "1         0        0  \n",
            "2         0        1  \n",
            "3         0        0  \n",
            "4         0        1  \n",
            "\n",
            "[5 rows x 37 columns]\n"
          ]
        }
      ]
    },
    {
      "cell_type": "code",
      "source": [
        "import pandas as pd\n",
        "from sklearn.model_selection import train_test_split\n",
        "from sklearn.preprocessing import MultiLabelBinarizer\n",
        "from sklearn.linear_model import LogisticRegression\n",
        "from sklearn.metrics import accuracy_score, f1_score, precision_score, recall_score\n",
        "from tqdm import tqdm\n",
        "import numpy as np\n",
        "\n",
        "# 1. Columns that correspond to emotions (all except meta + text)\n",
        "emotion_columns = [col for col in df.columns if col not in ['text', 'id', 'author', 'subreddit', 'link_id', 'parent_id', 'created_utc', 'rater_id', 'example_very_unclear']]\n",
        "\n",
        "# 2. Prepare multi-label target as list of emotions per sample\n",
        "def extract_labels(row):\n",
        "    return [emotion for emotion in emotion_columns if row[emotion] == 1]\n",
        "\n",
        "df['labels'] = df.apply(extract_labels, axis=1)\n",
        "\n",
        "# 3. Filter out rows with no emotion label (optional)\n",
        "df = df[df['labels'].map(len) > 0].reset_index(drop=True)\n",
        "\n",
        "print(f\"Dataset size after filtering no-label rows: {len(df)}\")\n",
        "\n",
        "# 4. Binarize labels for multi-label classification\n",
        "mlb = MultiLabelBinarizer(classes=emotion_columns)\n",
        "y = mlb.fit_transform(df['labels'])\n",
        "\n",
        "# 5. Simple text vectorization (TF-IDF)\n",
        "from sklearn.feature_extraction.text import TfidfVectorizer\n",
        "vectorizer = TfidfVectorizer(max_features=10000, stop_words='english')\n",
        "\n",
        "X = vectorizer.fit_transform(df['text'])\n",
        "\n",
        "# 6. Train-test split\n",
        "X_train, X_test, y_train, y_test = train_test_split(X, y, test_size=0.2, random_state=42)\n",
        "\n",
        "# 7. Train a Logistic Regression classifier with OneVsRest for multi-label\n",
        "from sklearn.multiclass import OneVsRestClassifier\n",
        "model = OneVsRestClassifier(LogisticRegression(max_iter=1000))\n",
        "\n",
        "print(\"Training model...\")\n",
        "model.fit(X_train, y_train)\n",
        "\n",
        "# 8. Predict on test set with progress bar\n",
        "print(\"Evaluating model...\")\n",
        "y_pred = []\n",
        "for i in tqdm(range(X_test.shape[0]), desc=\"Predicting\"):\n",
        "    pred = model.predict(X_test[i])\n",
        "    y_pred.append(pred[0])\n",
        "y_pred = np.array(y_pred)\n",
        "\n",
        "# 9. Calculate metrics\n",
        "accuracy = accuracy_score(y_test, y_pred)\n",
        "f1_micro = f1_score(y_test, y_pred, average='micro', zero_division=0)\n",
        "f1_macro = f1_score(y_test, y_pred, average='macro', zero_division=0)\n",
        "precision_micro = precision_score(y_test, y_pred, average='micro', zero_division=0)\n",
        "recall_micro = recall_score(y_test, y_pred, average='micro', zero_division=0)\n",
        "\n",
        "print(\"\\nMulti-label classification metrics:\")\n",
        "print(f\"Accuracy: {accuracy:.4f}\")\n",
        "print(f\"F1 Score (Micro): {f1_micro:.4f}\")\n",
        "print(f\"F1 Score (Macro): {f1_macro:.4f}\")\n",
        "print(f\"Precision (Micro): {precision_micro:.4f}\")\n",
        "print(f\"Recall (Micro): {recall_micro:.4f}\")\n"
      ],
      "metadata": {
        "colab": {
          "base_uri": "https://localhost:8080/"
        },
        "id": "Ra2K1sD2RBDl",
        "outputId": "907f162c-5330-4a47-b4e3-809d64a9dd09"
      },
      "execution_count": null,
      "outputs": [
        {
          "output_type": "stream",
          "name": "stdout",
          "text": [
            "Dataset size after filtering no-label rows: 207814\n",
            "Training model...\n",
            "Evaluating model...\n"
          ]
        },
        {
          "output_type": "stream",
          "name": "stderr",
          "text": [
            "Predicting: 100%|██████████| 41563/41563 [03:39<00:00, 189.46it/s]\n"
          ]
        },
        {
          "output_type": "stream",
          "name": "stdout",
          "text": [
            "\n",
            "Multi-label classification metrics:\n",
            "Accuracy: 0.1262\n",
            "F1 Score (Micro): 0.2315\n",
            "F1 Score (Macro): 0.1678\n",
            "Precision (Micro): 0.6325\n",
            "Recall (Micro): 0.1416\n"
          ]
        }
      ]
    },
    {
      "cell_type": "code",
      "source": [
        "import pandas as pd\n",
        "\n",
        "# Paths to your CSV files - update the paths if needed\n",
        "csv_files = [\n",
        "    '/content/goemotions_1.csv',\n",
        "    '/content/goemotions_2.csv',\n",
        "    '/content/goemotions_3.csv'\n",
        "]\n",
        "\n",
        "# Load each CSV into a DataFrame and store in a list\n",
        "dfs = [pd.read_csv(file) for file in csv_files]\n",
        "\n",
        "# Concatenate all DataFrames into one\n",
        "df = pd.concat(dfs, ignore_index=True)\n",
        "\n",
        "print(f\"Combined dataset shape: {df.shape}\")\n",
        "print(df.head())\n"
      ],
      "metadata": {
        "colab": {
          "base_uri": "https://localhost:8080/"
        },
        "id": "LMH08K7wSaCo",
        "outputId": "b4ea331f-713f-47a6-8915-11db3eb0d4fe"
      },
      "execution_count": null,
      "outputs": [
        {
          "output_type": "stream",
          "name": "stdout",
          "text": [
            "Combined dataset shape: (211225, 37)\n",
            "                                                text       id  \\\n",
            "0                                    That game hurt.  eew5j0j   \n",
            "1   >sexuality shouldn’t be a grouping category I...  eemcysk   \n",
            "2     You do right, if you don't care then fuck 'em!  ed2mah1   \n",
            "3                                 Man I love reddit.  eeibobj   \n",
            "4  [NAME] was nowhere near them, he was by the Fa...  eda6yn6   \n",
            "\n",
            "                author            subreddit    link_id   parent_id  \\\n",
            "0                Brdd9                  nrl  t3_ajis4z  t1_eew18eq   \n",
            "1          TheGreen888     unpopularopinion  t3_ai4q37   t3_ai4q37   \n",
            "2             Labalool          confessions  t3_abru74  t1_ed2m7g7   \n",
            "3        MrsRobertshaw             facepalm  t3_ahulml   t3_ahulml   \n",
            "4  American_Fascist713  starwarsspeculation  t3_ackt2f  t1_eda65q2   \n",
            "\n",
            "    created_utc  rater_id  example_very_unclear  admiration  ...  love  \\\n",
            "0  1.548381e+09         1                 False           0  ...     0   \n",
            "1  1.548084e+09        37                  True           0  ...     0   \n",
            "2  1.546428e+09        37                 False           0  ...     0   \n",
            "3  1.547965e+09        18                 False           0  ...     1   \n",
            "4  1.546669e+09         2                 False           0  ...     0   \n",
            "\n",
            "   nervousness  optimism  pride  realization  relief  remorse  sadness  \\\n",
            "0            0         0      0            0       0        0        1   \n",
            "1            0         0      0            0       0        0        0   \n",
            "2            0         0      0            0       0        0        0   \n",
            "3            0         0      0            0       0        0        0   \n",
            "4            0         0      0            0       0        0        0   \n",
            "\n",
            "   surprise  neutral  \n",
            "0         0        0  \n",
            "1         0        0  \n",
            "2         0        1  \n",
            "3         0        0  \n",
            "4         0        1  \n",
            "\n",
            "[5 rows x 37 columns]\n"
          ]
        }
      ]
    },
    {
      "cell_type": "code",
      "source": [
        "combined_csv_path = '/content/combined_goemotions.csv'\n",
        "df.to_csv(combined_csv_path, index=False)\n",
        "print(f\"Saved combined dataset to: {combined_csv_path}\")\n"
      ],
      "metadata": {
        "colab": {
          "base_uri": "https://localhost:8080/"
        },
        "id": "CPL4xCerUhjw",
        "outputId": "0d284553-9bf2-426f-a78f-dc21185dc931"
      },
      "execution_count": null,
      "outputs": [
        {
          "output_type": "stream",
          "name": "stdout",
          "text": [
            "Saved combined dataset to: /content/combined_goemotions.csv\n"
          ]
        }
      ]
    },
    {
      "cell_type": "code",
      "source": [
        "# Install necessary libraries (run once)\n",
        "# !pip install transformers datasets scikit-learn xgboost nltk tqdm\n",
        "\n",
        "import pandas as pd\n",
        "import numpy as np\n",
        "import re\n",
        "import torch\n",
        "import nltk\n",
        "from tqdm import tqdm\n",
        "from sklearn.preprocessing import MultiLabelBinarizer\n",
        "from sklearn.model_selection import train_test_split, GridSearchCV\n",
        "from sklearn.metrics import accuracy_score, f1_score, precision_score, recall_score\n",
        "from sklearn.linear_model import LogisticRegression\n",
        "from xgboost import XGBClassifier\n",
        "from transformers import DistilBertTokenizerFast, DistilBertModel\n",
        "from torch.utils.data import Dataset, DataLoader\n",
        "from torch import nn, optim\n",
        "from nltk.corpus import stopwords\n",
        "from nltk.stem import WordNetLemmatizer\n",
        "\n",
        "# Download nltk data\n",
        "nltk.download('stopwords')\n",
        "nltk.download('wordnet')\n",
        "\n",
        "# ---------- 1. DATA PREPROCESSING ----------\n",
        "\n",
        "# Sample: Load your combined dataset csv with 'text' and emotion label columns\n",
        "df = pd.read_csv(\"/content/combined_goemotions.csv\")  # replace with your path\n",
        "emotion_columns = df.columns[7:]  # adjust as needed for emotion columns\n",
        "\n",
        "# Drop rows with no emotion labels (all zeros)\n",
        "df = df[df[emotion_columns].sum(axis=1) > 0].reset_index(drop=True)\n",
        "\n",
        "# Basic text cleaning, stopword removal, and lemmatization\n",
        "stop_words = set(stopwords.words('english'))\n",
        "lemmatizer = WordNetLemmatizer()\n",
        "\n",
        "def preprocess_text(text):\n",
        "    text = text.lower()\n",
        "    text = re.sub(r\"http\\S+|www\\S+|https\\S+\", '', text)  # remove URLs\n",
        "    text = re.sub(r\"[^a-z\\s]\", '', text)  # remove punctuation/numbers\n",
        "    tokens = text.split()\n",
        "    tokens = [lemmatizer.lemmatize(w) for w in tokens if w not in stop_words]\n",
        "    return \" \".join(tokens)\n",
        "\n",
        "tqdm.pandas(desc=\"Preprocessing texts\")\n",
        "df['clean_text'] = df['text'].progress_apply(preprocess_text)\n",
        "\n",
        "# Binarize multi-label emotions\n",
        "labels = df[emotion_columns].values\n",
        "\n",
        "# Train/test split\n",
        "train_texts, val_texts, train_labels, val_labels = train_test_split(\n",
        "    df['clean_text'], labels, test_size=0.2, random_state=42)\n",
        "\n",
        "# ---------- 2. EMBEDDINGS WITH DISTILBERT ----------\n",
        "\n",
        "tokenizer = DistilBertTokenizerFast.from_pretrained('distilbert-base-uncased')\n",
        "model = DistilBertModel.from_pretrained('distilbert-base-uncased')\n",
        "\n",
        "device = torch.device('cuda' if torch.cuda.is_available() else 'cpu')\n",
        "model.to(device)\n",
        "model.eval()\n",
        "\n",
        "def get_embeddings(texts, batch_size=32):\n",
        "    embeddings = []\n",
        "    for i in tqdm(range(0, len(texts), batch_size), desc=\"Embedding texts\"):\n",
        "        batch = texts[i:i+batch_size]\n",
        "        encoded = tokenizer(batch.tolist(), truncation=True, padding=True, max_length=128, return_tensors='pt')\n",
        "        encoded = {k: v.to(device) for k,v in encoded.items()}\n",
        "        with torch.no_grad():\n",
        "            outputs = model(**encoded)\n",
        "        # Use CLS token embedding (first token)\n",
        "        batch_embeds = outputs.last_hidden_state[:,0,:].cpu().numpy()\n",
        "        embeddings.append(batch_embeds)\n",
        "    return np.vstack(embeddings)\n",
        "\n",
        "train_embeddings = get_embeddings(train_texts)\n",
        "val_embeddings = get_embeddings(val_texts)\n",
        "\n"
      ],
      "metadata": {
        "colab": {
          "base_uri": "https://localhost:8080/"
        },
        "id": "HzNejXfYUuFY",
        "outputId": "8846f299-2776-46a4-df92-3f238934a4cf"
      },
      "execution_count": null,
      "outputs": [
        {
          "output_type": "stream",
          "name": "stderr",
          "text": [
            "[nltk_data] Downloading package stopwords to /root/nltk_data...\n",
            "[nltk_data]   Package stopwords is already up-to-date!\n",
            "[nltk_data] Downloading package wordnet to /root/nltk_data...\n",
            "[nltk_data]   Package wordnet is already up-to-date!\n",
            "Preprocessing texts: 100%|██████████| 211225/211225 [00:07<00:00, 29505.88it/s]\n",
            "Embedding texts: 100%|██████████| 5281/5281 [01:47<00:00, 48.98it/s]\n",
            "Embedding texts: 100%|██████████| 1321/1321 [00:26<00:00, 49.06it/s]\n"
          ]
        }
      ]
    },
    {
      "cell_type": "code",
      "source": [
        "print(train_labels.dtype)\n",
        "print(train_labels.shape)\n",
        "print(np.unique(train_labels))\n"
      ],
      "metadata": {
        "colab": {
          "base_uri": "https://localhost:8080/"
        },
        "id": "2bNE6nvWYrSK",
        "outputId": "4895cc94-8b6f-431f-cb26-b59b4aed4e47"
      },
      "execution_count": null,
      "outputs": [
        {
          "output_type": "stream",
          "name": "stdout",
          "text": [
            "object\n",
            "(168980, 30)\n",
            "[0 1 2 3 4 5 6 7 8 9 10 11 12 13 14 15 16 17 18 19 20 21 22 23 24 25 26 27\n",
            " 28 29 30 31 32 33 34 35 36 37 38 39 40 41 42 43 44 45 46 47 48 49 50 51\n",
            " 52 53 54 55 56 57 58 59 60 61 62 63 64 65 66 67 68 69 70 71 72 73 74 75\n",
            " 76 77 78 79 80 81]\n"
          ]
        }
      ]
    },
    {
      "cell_type": "code",
      "source": [
        "print(type(train_labels))\n",
        "print(train_labels.dtype)\n",
        "print(train_labels.shape)\n",
        "print(np.unique(train_labels))  # This might be very big; just check type if needed\n",
        "\n",
        "# Check example label row\n",
        "print(train_labels[0])\n",
        "print([type(x) for x in train_labels[0]])\n"
      ],
      "metadata": {
        "colab": {
          "base_uri": "https://localhost:8080/"
        },
        "id": "TldQcseNZAI9",
        "outputId": "c196517b-a1c1-42c0-9527-10ec8f88728d"
      },
      "execution_count": null,
      "outputs": [
        {
          "output_type": "stream",
          "name": "stdout",
          "text": [
            "<class 'numpy.ndarray'>\n",
            "object\n",
            "(168980, 30)\n",
            "[0 1 2 3 4 5 6 7 8 9 10 11 12 13 14 15 16 17 18 19 20 21 22 23 24 25 26 27\n",
            " 28 29 30 31 32 33 34 35 36 37 38 39 40 41 42 43 44 45 46 47 48 49 50 51\n",
            " 52 53 54 55 56 57 58 59 60 61 62 63 64 65 66 67 68 69 70 71 72 73 74 75\n",
            " 76 77 78 79 80 81]\n",
            "[37 False 0 0 0 1 0 0 0 0 0 0 1 0 0 0 0 0 0 0 0 0 0 0 0 0 0 0 0 0]\n",
            "[<class 'int'>, <class 'bool'>, <class 'int'>, <class 'int'>, <class 'int'>, <class 'int'>, <class 'int'>, <class 'int'>, <class 'int'>, <class 'int'>, <class 'int'>, <class 'int'>, <class 'int'>, <class 'int'>, <class 'int'>, <class 'int'>, <class 'int'>, <class 'int'>, <class 'int'>, <class 'int'>, <class 'int'>, <class 'int'>, <class 'int'>, <class 'int'>, <class 'int'>, <class 'int'>, <class 'int'>, <class 'int'>, <class 'int'>, <class 'int'>]\n"
          ]
        }
      ]
    },
    {
      "cell_type": "code",
      "source": [],
      "metadata": {
        "id": "GHmZ3vLOYHuJ"
      },
      "execution_count": null,
      "outputs": []
    }
  ]
}